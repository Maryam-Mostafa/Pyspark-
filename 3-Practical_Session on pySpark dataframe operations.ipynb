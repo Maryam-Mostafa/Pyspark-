{
  "cells": [
    {
      "cell_type": "markdown",
      "metadata": {
        "id": "view-in-github",
        "colab_type": "text"
      },
      "source": [
        "<a href=\"https://colab.research.google.com/github/Maryam-Mostafa/Pyspark-/blob/master/Practical_Session%20on%20pySpark%20dataframe%20operations.ipynb\" target=\"_parent\"><img src=\"https://colab.research.google.com/assets/colab-badge.svg\" alt=\"Open In Colab\"/></a>"
      ]
    },
    {
      "cell_type": "markdown",
      "metadata": {
        "id": "n3LYFm-ri2hF"
      },
      "source": [
        "# **Lab 1 PySpark:** \n",
        "\n",
        "\n",
        "In these labs we will be using the \"[[NeurIPS 2020] Data Science for COVID-19 (DS4C)](https://www.kaggle.com/datasets/kimjihoo/coronavirusdataset?select=PatientInfo.csv)\" dataset, retrieved from [Kaggle](https://www.kaggle.com/) on 1/6/2022, for educational non commercial purpose, License\n",
        "[CC BY-NC-SA 4.0\n",
        "](https://creativecommons.org/licenses/by-nc-sa/4.0/)\n",
        "\n",
        "\n",
        "The csv files that we will be using in this lab is **PatientInfo**.\n",
        "\n"
      ]
    },
    {
      "cell_type": "markdown",
      "metadata": {
        "id": "KEybFa4VpV53"
      },
      "source": [
        "# File 📁"
      ]
    },
    {
      "cell_type": "markdown",
      "metadata": {
        "id": "AzqgDiSuph9_"
      },
      "source": [
        "##PatientInfo.csv\n",
        "\n",
        "**patient_id**\n",
        "the ID of the patient\n",
        "\n",
        "**sex**\n",
        "the sex of the patient\n",
        "\n",
        "**age**\n",
        "the age of the patient\n",
        "\n",
        "**country**\n",
        "the country of the patient\n",
        "\n",
        "**province**\n",
        "the province of the patient\n",
        "\n",
        "**city**\n",
        "the city of the patient\n",
        "\n",
        "**infection_case**\n",
        "the case of infection\n",
        "\n",
        "**infected_by**\n",
        "the ID of who infected the patient\n",
        "\n",
        "\n",
        "**contact_number**\n",
        "the number of contacts with people\n",
        "\n",
        "**symptom_onset_date**\n",
        "the date of symptom onset\n",
        "\n",
        "**confirmed_date**\n",
        "the date of being confirmed\n",
        "\n",
        "**released_date**\n",
        "the date of being released\n",
        "\n",
        "**deceased_date**\n",
        "the date of being deceased\n",
        "\n",
        "**state**\n",
        "isolated / released / deceased"
      ]
    },
    {
      "cell_type": "markdown",
      "metadata": {
        "id": "jh6haknIsUDk"
      },
      "source": [
        "# Installing PySpark:\n"
      ]
    },
    {
      "cell_type": "markdown",
      "metadata": {
        "id": "0UHhdbv2w-c7"
      },
      "source": [
        "Kindly install pyspark ⌨"
      ]
    },
    {
      "cell_type": "code",
      "execution_count": null,
      "metadata": {
        "id": "xfIzY8ZcYzgl",
        "colab": {
          "base_uri": "https://localhost:8080/"
        },
        "outputId": "90b0ccb2-ef74-4a9a-e59e-611f8f890ed0"
      },
      "outputs": [
        {
          "output_type": "stream",
          "name": "stdout",
          "text": [
            "Looking in indexes: https://pypi.org/simple, https://us-python.pkg.dev/colab-wheels/public/simple/\n",
            "Requirement already satisfied: pyspark in /usr/local/lib/python3.7/dist-packages (3.2.1)\n",
            "Requirement already satisfied: py4j==0.10.9.3 in /usr/local/lib/python3.7/dist-packages (from pyspark) (0.10.9.3)\n"
          ]
        }
      ],
      "source": [
        "!pip install pyspark"
      ]
    },
    {
      "cell_type": "markdown",
      "metadata": {
        "id": "b-2OIxOKpe8m"
      },
      "source": [
        "Check the pyspark version"
      ]
    },
    {
      "cell_type": "code",
      "execution_count": null,
      "metadata": {
        "colab": {
          "base_uri": "https://localhost:8080/"
        },
        "id": "y5WrylsPYzdN",
        "outputId": "df190bbe-bfac-4dec-e88e-467e59696ade"
      },
      "outputs": [
        {
          "output_type": "stream",
          "name": "stdout",
          "text": [
            "PySpark Version :3.2.1\n"
          ]
        }
      ],
      "source": [
        "import pyspark\n",
        "from pyspark.sql import SparkSession\n",
        "spark = SparkSession.builder.master(\"local[1]\") \\\n",
        "                    .appName('SparkByExamples.com') \\\n",
        "                    .getOrCreate()\n",
        "\n",
        "print('PySpark Version :'+spark.version)"
      ]
    },
    {
      "cell_type": "markdown",
      "metadata": {
        "id": "zuFL78VZsiih"
      },
      "source": [
        "Importing sparksession then create a spark session"
      ]
    },
    {
      "cell_type": "code",
      "execution_count": null,
      "metadata": {
        "id": "kXSNtheZY6MR"
      },
      "outputs": [],
      "source": [
        "import pyspark\n",
        "from pyspark.sql import SparkSession"
      ]
    },
    {
      "cell_type": "code",
      "execution_count": null,
      "metadata": {
        "id": "ssNr39ToY6I6"
      },
      "outputs": [],
      "source": [
        "spark = SparkSession.builder.appName('Lab1_G2').getOrCreate()"
      ]
    },
    {
      "cell_type": "markdown",
      "metadata": {
        "id": "NlDko43_subO"
      },
      "source": [
        "## Importing libraries needed"
      ]
    },
    {
      "cell_type": "markdown",
      "metadata": {
        "id": "d9lcLjvkxi9E"
      },
      "source": [
        "Import the libraries that you may need below"
      ]
    },
    {
      "cell_type": "code",
      "execution_count": null,
      "metadata": {
        "id": "uykVRq4AYvwt"
      },
      "outputs": [],
      "source": [
        ""
      ]
    },
    {
      "cell_type": "code",
      "execution_count": null,
      "metadata": {
        "id": "c3TLS6jfaLfi"
      },
      "outputs": [],
      "source": [
        ""
      ]
    },
    {
      "cell_type": "code",
      "execution_count": null,
      "metadata": {
        "id": "BnxEhnfN--qc"
      },
      "outputs": [],
      "source": [
        ""
      ]
    },
    {
      "cell_type": "markdown",
      "metadata": {
        "id": "ckSUdcm4-FNJ"
      },
      "source": [
        "# Follow the instructions above the cells below:\n"
      ]
    },
    {
      "cell_type": "markdown",
      "metadata": {
        "id": "hDu5404I-J52"
      },
      "source": [
        "Kindly load the PatientInfo.csv file and show the first 5 rows"
      ]
    },
    {
      "cell_type": "markdown",
      "metadata": {
        "id": "6MMglyL6u7tS"
      },
      "source": [
        "❌ PLEASE do NOT change the cell below "
      ]
    },
    {
      "cell_type": "code",
      "execution_count": null,
      "metadata": {
        "colab": {
          "base_uri": "https://localhost:8080/"
        },
        "id": "-k9d26j8ujcQ",
        "outputId": "bea57859-ea1d-423d-bcd5-6183be366a63"
      },
      "outputs": [
        {
          "output_type": "stream",
          "name": "stdout",
          "text": [
            "Downloading...\n",
            "From: https://drive.google.com/uc?id=1PB6wBDVTM_eocxOyi0lWlLBQOlH0rLe_\n",
            "To: /content/PatientInfo.csv\n",
            "\r  0% 0.00/489k [00:00<?, ?B/s]\r100% 489k/489k [00:00<00:00, 77.4MB/s]\n"
          ]
        }
      ],
      "source": [
        "!gdown https://drive.google.com/uc?id=1PB6wBDVTM_eocxOyi0lWlLBQOlH0rLe_ -O PatientInfo.csv"
      ]
    },
    {
      "cell_type": "markdown",
      "metadata": {
        "id": "jTCQPo9nxrM-"
      },
      "source": [
        "load the **PatientInfo.csv** file downloaded and put it in a dataframe called **patient**"
      ]
    },
    {
      "cell_type": "code",
      "execution_count": null,
      "metadata": {
        "id": "8k6wYm4iapa8"
      },
      "outputs": [],
      "source": [
        "df = spark.read.csv('/content/PatientInfo.csv', header = True, inferSchema=True)"
      ]
    },
    {
      "cell_type": "markdown",
      "metadata": {
        "id": "mtwZlnVyx5LR"
      },
      "source": [
        "Show the first 5 rows"
      ]
    },
    {
      "cell_type": "code",
      "execution_count": null,
      "metadata": {
        "colab": {
          "base_uri": "https://localhost:8080/"
        },
        "id": "2GN7v2RP_snN",
        "outputId": "a21180b7-be02-48cc-cf58-cd2431a67449"
      },
      "outputs": [
        {
          "output_type": "stream",
          "name": "stdout",
          "text": [
            "+----------+------+---+-------+--------+-----------+--------------------+-----------+--------------+------------------+--------------+-------------+-------------+--------+\n",
            "|patient_id|   sex|age|country|province|       city|      infection_case|infected_by|contact_number|symptom_onset_date|confirmed_date|released_date|deceased_date|   state|\n",
            "+----------+------+---+-------+--------+-----------+--------------------+-----------+--------------+------------------+--------------+-------------+-------------+--------+\n",
            "|1000000001|  male|50s|  Korea|   Seoul| Gangseo-gu|     overseas inflow|       null|            75|        2020-01-22|    2020-01-23|   2020-02-05|         null|released|\n",
            "|1000000002|  male|30s|  Korea|   Seoul|Jungnang-gu|     overseas inflow|       null|            31|              null|    2020-01-30|   2020-03-02|         null|released|\n",
            "|1000000003|  male|50s|  Korea|   Seoul|  Jongno-gu|contact with patient| 2002000001|            17|              null|    2020-01-30|   2020-02-19|         null|released|\n",
            "|1000000004|  male|20s|  Korea|   Seoul|    Mapo-gu|     overseas inflow|       null|             9|        2020-01-26|    2020-01-30|   2020-02-15|         null|released|\n",
            "|1000000005|female|20s|  Korea|   Seoul|Seongbuk-gu|contact with patient| 1000000002|             2|              null|    2020-01-31|   2020-02-24|         null|released|\n",
            "+----------+------+---+-------+--------+-----------+--------------------+-----------+--------------+------------------+--------------+-------------+-------------+--------+\n",
            "only showing top 5 rows\n",
            "\n"
          ]
        }
      ],
      "source": [
        "df.show(5)"
      ]
    },
    {
      "cell_type": "markdown",
      "metadata": {
        "id": "oXDVp2jEAdYG"
      },
      "source": [
        "Display the schema for the dataset"
      ]
    },
    {
      "cell_type": "code",
      "execution_count": null,
      "metadata": {
        "colab": {
          "base_uri": "https://localhost:8080/"
        },
        "id": "I-dkruQEAgPx",
        "outputId": "cdd22708-151a-4510-aab8-2d7398a7c34c"
      },
      "outputs": [
        {
          "output_type": "stream",
          "name": "stdout",
          "text": [
            "root\n",
            " |-- patient_id: long (nullable = true)\n",
            " |-- sex: string (nullable = true)\n",
            " |-- age: string (nullable = true)\n",
            " |-- country: string (nullable = true)\n",
            " |-- province: string (nullable = true)\n",
            " |-- city: string (nullable = true)\n",
            " |-- infection_case: string (nullable = true)\n",
            " |-- infected_by: string (nullable = true)\n",
            " |-- contact_number: string (nullable = true)\n",
            " |-- symptom_onset_date: string (nullable = true)\n",
            " |-- confirmed_date: string (nullable = true)\n",
            " |-- released_date: string (nullable = true)\n",
            " |-- deceased_date: string (nullable = true)\n",
            " |-- state: string (nullable = true)\n",
            "\n"
          ]
        }
      ],
      "source": [
        " df.printSchema()"
      ]
    },
    {
      "cell_type": "markdown",
      "metadata": {
        "id": "i8C-dNfFAnWm"
      },
      "source": [
        "Display the statistical summary"
      ]
    },
    {
      "cell_type": "code",
      "execution_count": null,
      "metadata": {
        "colab": {
          "base_uri": "https://localhost:8080/"
        },
        "id": "I5Zf3picAthb",
        "outputId": "dd47f567-5ceb-41a8-d34f-e512c267093d"
      },
      "outputs": [
        {
          "output_type": "stream",
          "name": "stdout",
          "text": [
            "+-------+--------------------+------+----+----------+--------+--------------+--------------------+--------------------+--------------------+------------------+--------------+-------------+-------------+--------+\n",
            "|summary|          patient_id|   sex| age|   country|province|          city|      infection_case|         infected_by|      contact_number|symptom_onset_date|confirmed_date|released_date|deceased_date|   state|\n",
            "+-------+--------------------+------+----+----------+--------+--------------+--------------------+--------------------+--------------------+------------------+--------------+-------------+-------------+--------+\n",
            "|  count|                5165|  4043|3785|      5165|    5165|          5071|                4246|                1346|                 791|               690|          5162|         1587|           66|    5165|\n",
            "|   mean|2.8636345618679576E9|  null|null|      null|    null|          null|                null|2.2845944015643125E9|1.6772572523506988E7|              null|          null|         null|         null|    null|\n",
            "| stddev| 2.074210725277473E9|  null|null|      null|    null|          null|                null|1.5265072953383324E9| 3.093097580985502E8|              null|          null|         null|         null|    null|\n",
            "|    min|          1000000001|female|  0s|Bangladesh|   Busan|     Andong-si|Anyang Gunpo Past...|          1000000002|                   -|                  |    2020-01-20|   2020-02-05|   2020-02-19|deceased|\n",
            "|    25%|          1000001291|  null|null|      null|    null|          null|                null|       1.400000102E9|                 2.0|              null|          null|         null|         null|    null|\n",
            "|    50%|          2000000369|  null|null|      null|    null|          null|                null|       2.000000167E9|                 4.0|              null|          null|         null|         null|    null|\n",
            "|    75%|          6001000115|  null|null|      null|    null|          null|                null|       2.000000975E9|                14.0|              null|          null|         null|         null|    null|\n",
            "|    max|          7000000019|  male| 90s|   Vietnam|   Ulsan|sankyeock-dong|     overseas inflow|          7000000009|                  95|        2020-06-28|    2020-06-30|   2020-06-28|   2020-05-25|released|\n",
            "+-------+--------------------+------+----+----------+--------+--------------+--------------------+--------------------+--------------------+------------------+--------------+-------------+-------------+--------+\n",
            "\n"
          ]
        }
      ],
      "source": [
        "df.summary().show()"
      ]
    },
    {
      "cell_type": "markdown",
      "metadata": {
        "id": "mR9rigrlA9r7"
      },
      "source": [
        "How many people survived, and how many didn't survive?"
      ]
    },
    {
      "cell_type": "code",
      "execution_count": null,
      "metadata": {
        "id": "dlkjbl69A-gO",
        "colab": {
          "base_uri": "https://localhost:8080/"
        },
        "outputId": "6b8de0b3-281c-42c7-a417-8dc630ac8692"
      },
      "outputs": [
        {
          "output_type": "stream",
          "name": "stdout",
          "text": [
            "people survived count = 5087, people who didn't survived count 78\n"
          ]
        }
      ],
      "source": [
        "# isolated / released / deceased\n",
        "not_survived = df.filter(df.state == 'deceased').count()\n",
        "survived = (df.filter(df.state == 'released').count()) + (df.filter(df.state == 'isolated').count())\n",
        "print(f\"people survived count = {survived}, people who didn't survived count {not_survived}\")"
      ]
    },
    {
      "cell_type": "markdown",
      "metadata": {
        "id": "hWjNttApBdC2"
      },
      "source": [
        "Display the number of null values in each column"
      ]
    },
    {
      "cell_type": "code",
      "execution_count": null,
      "metadata": {
        "colab": {
          "base_uri": "https://localhost:8080/"
        },
        "id": "dGS8vgVTBjBs",
        "outputId": "47e03e1a-e559-40d0-97e3-175c6b00e7c5"
      },
      "outputs": [
        {
          "output_type": "stream",
          "name": "stdout",
          "text": [
            "+----------+----+----+-------+--------+----+--------------+-----------+--------------+------------------+--------------+-------------+-------------+-----+\n",
            "|patient_id| sex| age|country|province|city|infection_case|infected_by|contact_number|symptom_onset_date|confirmed_date|released_date|deceased_date|state|\n",
            "+----------+----+----+-------+--------+----+--------------+-----------+--------------+------------------+--------------+-------------+-------------+-----+\n",
            "|         0|1122|1380|      0|       0|  94|           919|       3819|          4374|              4475|             3|         3578|         5099|    0|\n",
            "+----------+----+----+-------+--------+----+--------------+-----------+--------------+------------------+--------------+-------------+-------------+-----+\n",
            "\n"
          ]
        }
      ],
      "source": [
        "from pyspark.sql.functions import col,isnan, when, count\n",
        "df.select([count(when(isnan(c) | col(c).isNull(), c)).alias(c) for c in df.columns]).show()"
      ]
    },
    {
      "cell_type": "markdown",
      "metadata": {
        "id": "lsqH7IH6_2U_"
      },
      "source": [
        "# Data preprocessing"
      ]
    },
    {
      "cell_type": "markdown",
      "metadata": {
        "id": "09H0zG72AEh7"
      },
      "source": [
        "Kindly fill the nulls in the **deceased_date** with the **released_date**"
      ]
    },
    {
      "cell_type": "code",
      "execution_count": null,
      "metadata": {
        "id": "eDlY0fl7WvSg"
      },
      "outputs": [],
      "source": [
        "from pyspark.sql.functions import coalesce"
      ]
    },
    {
      "cell_type": "markdown",
      "metadata": {
        "id": "_ix95wvMgi_7"
      },
      "source": [
        "Drop values having a null deceased_date"
      ]
    },
    {
      "cell_type": "code",
      "execution_count": null,
      "metadata": {
        "colab": {
          "base_uri": "https://localhost:8080/"
        },
        "id": "SsEfnv__gsPe",
        "outputId": "299a5666-3598-4a9e-bfa5-2f36149c78ae"
      },
      "outputs": [
        {
          "output_type": "stream",
          "name": "stdout",
          "text": [
            "+----------+------+---+-------+--------+------+------------------+-----------+--------------+------------------+--------------+-------------+-------------+--------+\n",
            "|patient_id|   sex|age|country|province|  city|    infection_case|infected_by|contact_number|symptom_onset_date|confirmed_date|released_date|deceased_date|   state|\n",
            "+----------+------+---+-------+--------+------+------------------+-----------+--------------+------------------+--------------+-------------+-------------+--------+\n",
            "|1200000038|female|50s|  Korea|   Daegu|Nam-gu|              null|       null|          null|              null|    2020-02-18|         null|   2020-02-23|deceased|\n",
            "|1200000114|  male|70s|  Korea|   Daegu|  null|Shincheonji Church|       null|          null|              null|    2020-02-21|         null|   2020-02-26|deceased|\n",
            "|1200000620|  male|70s|  Korea|   Daegu|  null|              null|       null|          null|              null|    2020-02-24|         null|   2020-03-02|deceased|\n",
            "|1200000901|female|80s|  Korea|   Daegu|  null|              null|       null|          null|              null|    2020-02-25|         null|   2020-03-04|deceased|\n",
            "|1200001064|female|70s|  Korea|   Daegu|  null|              null|       null|          null|              null|    2020-02-26|         null|   2020-03-01|deceased|\n",
            "|1200001288|  male|60s|  Korea|   Daegu|  null|              null|       null|          null|              null|    2020-02-27|         null|   2020-03-02|deceased|\n",
            "|1200001443|  male|70s|  Korea|   Daegu|  null|              null|       null|          null|              null|    2020-02-27|         null|   2020-02-27|deceased|\n",
            "|1200001921|  male|60s|  Korea|   Daegu|  null|              null|       null|          null|              null|    2020-02-28|         null|   2020-03-05|deceased|\n",
            "|1200002085|  male|70s|  Korea|   Daegu|  null|              null|       null|          null|              null|    2020-02-28|         null|   2020-03-04|deceased|\n",
            "|1200002289|  male|60s|  Korea|   Daegu|  null|              null|       null|          null|              null|    2020-02-28|         null|   2020-03-05|deceased|\n",
            "|1200002614|female|70s|  Korea|   Daegu|  null|              null|       null|          null|              null|    2020-02-29|         null|   2020-03-01|deceased|\n",
            "|1200002769|female|80s|  Korea|   Daegu|  null|              null|       null|          null|              null|    2020-02-29|         null|   2020-03-02|deceased|\n",
            "|1200002936|  male|80s|  Korea|   Daegu|  null|              null|       null|          null|              null|    2020-02-29|         null|   2020-03-06|deceased|\n",
            "|1200003550|female|60s|  Korea|   Daegu|  null|              null|       null|          null|              null|    2020-03-01|         null|   2020-03-09|deceased|\n",
            "|1200003578|  male|90s|  Korea|   Daegu|  null|              null|       null|          null|              null|    2020-03-01|         null|   2020-03-07|deceased|\n",
            "|1200003896|  male|80s|  Korea|   Daegu|  null|              null|       null|          null|              null|    2020-03-01|         null|   2020-03-03|deceased|\n",
            "|1200003914|  male|80s|  Korea|   Daegu|  null|              null|       null|          null|              null|    2020-03-01|         null|   2020-03-09|deceased|\n",
            "|1200004046|female|50s|  Korea|   Daegu|  null|              null|       null|          null|              null|    2020-03-01|         null|   2020-03-01|deceased|\n",
            "|1200005767|  male|80s|  Korea|   Daegu|  null|              null|       null|          null|              null|    2020-03-05|         null|   2020-03-05|deceased|\n",
            "|1200007196|  male|70s|  Korea|   Daegu|  null|              null|       null|          null|              null|    2020-03-08|         null|   2020-03-09|deceased|\n",
            "+----------+------+---+-------+--------+------+------------------+-----------+--------------+------------------+--------------+-------------+-------------+--------+\n",
            "only showing top 20 rows\n",
            "\n"
          ]
        }
      ],
      "source": [
        "df = df.na.drop(subset=\"deceased_date\")\n",
        "df.show()"
      ]
    },
    {
      "cell_type": "markdown",
      "metadata": {
        "id": "3KaM3YJAZ-T_"
      },
      "source": [
        "Add a column named no_days which is difference between the deceased_date and the confirmed_date then show the top 5 rows\n",
        "\n",
        "Hint: You need to typecase these coumns as date first"
      ]
    },
    {
      "cell_type": "code",
      "execution_count": null,
      "metadata": {
        "colab": {
          "base_uri": "https://localhost:8080/"
        },
        "id": "VWSe-SJDa3iK",
        "outputId": "49a2cd18-e1a6-485c-c8be-69df4d8554ea"
      },
      "outputs": [
        {
          "output_type": "stream",
          "name": "stdout",
          "text": [
            "+-------+\n",
            "|no_days|\n",
            "+-------+\n",
            "|      5|\n",
            "|      5|\n",
            "|      7|\n",
            "|      8|\n",
            "|      4|\n",
            "+-------+\n",
            "only showing top 5 rows\n",
            "\n"
          ]
        }
      ],
      "source": [
        "from pyspark.sql.functions import datediff, to_date\n",
        "\n",
        "df = df.withColumn(\"no_days\", datediff(to_date(df['deceased_date']) , to_date(df['confirmed_date'])))\n",
        "df.select('no_days').show(5)"
      ]
    },
    {
      "cell_type": "code",
      "source": [
        "df.show(5)"
      ],
      "metadata": {
        "colab": {
          "base_uri": "https://localhost:8080/"
        },
        "id": "tOCU0vu_aZ4J",
        "outputId": "acb0ee50-8b50-46d6-de1e-65d6c5344977"
      },
      "execution_count": null,
      "outputs": [
        {
          "output_type": "stream",
          "name": "stdout",
          "text": [
            "+----------+------+---+-------+--------+------+------------------+-----------+--------------+------------------+--------------+-------------+-------------+--------+-------+\n",
            "|patient_id|   sex|age|country|province|  city|    infection_case|infected_by|contact_number|symptom_onset_date|confirmed_date|released_date|deceased_date|   state|no_days|\n",
            "+----------+------+---+-------+--------+------+------------------+-----------+--------------+------------------+--------------+-------------+-------------+--------+-------+\n",
            "|1200000038|female|50s|  Korea|   Daegu|Nam-gu|              null|       null|          null|              null|    2020-02-18|         null|   2020-02-23|deceased|      5|\n",
            "|1200000114|  male|70s|  Korea|   Daegu|  null|Shincheonji Church|       null|          null|              null|    2020-02-21|         null|   2020-02-26|deceased|      5|\n",
            "|1200000620|  male|70s|  Korea|   Daegu|  null|              null|       null|          null|              null|    2020-02-24|         null|   2020-03-02|deceased|      7|\n",
            "|1200000901|female|80s|  Korea|   Daegu|  null|              null|       null|          null|              null|    2020-02-25|         null|   2020-03-04|deceased|      8|\n",
            "|1200001064|female|70s|  Korea|   Daegu|  null|              null|       null|          null|              null|    2020-02-26|         null|   2020-03-01|deceased|      4|\n",
            "+----------+------+---+-------+--------+------+------------------+-----------+--------------+------------------+--------------+-------------+-------------+--------+-------+\n",
            "only showing top 5 rows\n",
            "\n"
          ]
        }
      ]
    },
    {
      "cell_type": "markdown",
      "metadata": {
        "id": "i_kUjsyrdKIY"
      },
      "source": [
        "Add a **is_male** column if male then it should yield 1, else then 0 and show your dataframe"
      ]
    },
    {
      "cell_type": "code",
      "execution_count": null,
      "metadata": {
        "colab": {
          "base_uri": "https://localhost:8080/"
        },
        "id": "dOhiOlLW_w7c",
        "outputId": "8d805ed1-0a31-4599-f066-a0bf227fa26c"
      },
      "outputs": [
        {
          "output_type": "stream",
          "name": "stdout",
          "text": [
            "+------+-------+\n",
            "|   sex|is_male|\n",
            "+------+-------+\n",
            "|female|      0|\n",
            "|  male|      1|\n",
            "|  male|      1|\n",
            "|female|      0|\n",
            "|female|      0|\n",
            "|  male|      1|\n",
            "|  male|      1|\n",
            "|  male|      1|\n",
            "|  male|      1|\n",
            "|  male|      1|\n",
            "|female|      0|\n",
            "|female|      0|\n",
            "|  male|      1|\n",
            "|female|      0|\n",
            "|  male|      1|\n",
            "|  male|      1|\n",
            "|  male|      1|\n",
            "|female|      0|\n",
            "|  male|      1|\n",
            "|  male|      1|\n",
            "+------+-------+\n",
            "only showing top 20 rows\n",
            "\n"
          ]
        }
      ],
      "source": [
        "from pyspark.sql.functions import when, lit\n",
        "df = df.withColumn(\"is_male\", \\\n",
        "   when((df.sex == 'male'), lit(1))\\\n",
        "     .otherwise(lit(0)) \\\n",
        "  )\n",
        "df.select(['sex', 'is_male']).show()"
      ]
    },
    {
      "cell_type": "markdown",
      "metadata": {
        "id": "sxw7aTZLlZ6q"
      },
      "source": [
        "Add a **is_dead** column if patient state is released then make it 1, else 0 and show your dataframe"
      ]
    },
    {
      "cell_type": "code",
      "execution_count": null,
      "metadata": {
        "colab": {
          "base_uri": "https://localhost:8080/"
        },
        "id": "rmB4ykRDlag-",
        "outputId": "c21e0f63-6ccf-4937-c5e1-f3de8e4967d7"
      },
      "outputs": [
        {
          "output_type": "stream",
          "name": "stdout",
          "text": [
            "+--------+-------+\n",
            "|   state|is_dead|\n",
            "+--------+-------+\n",
            "|deceased|      1|\n",
            "|deceased|      1|\n",
            "|deceased|      1|\n",
            "|deceased|      1|\n",
            "|deceased|      1|\n",
            "|deceased|      1|\n",
            "|deceased|      1|\n",
            "|deceased|      1|\n",
            "|deceased|      1|\n",
            "|deceased|      1|\n",
            "|deceased|      1|\n",
            "|deceased|      1|\n",
            "|deceased|      1|\n",
            "|deceased|      1|\n",
            "|deceased|      1|\n",
            "|deceased|      1|\n",
            "|deceased|      1|\n",
            "|deceased|      1|\n",
            "|deceased|      1|\n",
            "|deceased|      1|\n",
            "+--------+-------+\n",
            "only showing top 20 rows\n",
            "\n"
          ]
        }
      ],
      "source": [
        " from pyspark.sql.functions import when, lit\n",
        "df = df.withColumn(\"is_dead\", \\\n",
        "   when((df.state == 'deceased'), lit(1))\\\n",
        "     .otherwise(lit(0)) \\\n",
        "  )\n",
        "df.select(['state', 'is_dead']).show()"
      ]
    },
    {
      "cell_type": "markdown",
      "metadata": {
        "id": "loZJsbP2qYPL"
      },
      "source": [
        "Kindly change the ages to bins from 10s, 0s, 10s, 20s,.etc to 0,10, 20 and show your dataframe"
      ]
    },
    {
      "cell_type": "code",
      "execution_count": null,
      "metadata": {
        "colab": {
          "base_uri": "https://localhost:8080/"
        },
        "id": "7JD4ZUiOCHnG",
        "outputId": "c95781c6-f05b-4ee2-e571-33527a49c758"
      },
      "outputs": [
        {
          "output_type": "execute_result",
          "data": {
            "text/plain": [
              "<function __main__.<lambda>>"
            ]
          },
          "metadata": {},
          "execution_count": 18
        }
      ],
      "source": [
        "#normal funvtion\n",
        "def remove_s(age):\n",
        "  if age:\n",
        "    new_age = int(age[:-1])\n",
        "    return new_age\n",
        "  else:\n",
        "    return \"None\"\n",
        "\n",
        "# remove_s('10s') \n",
        "from pyspark.sql.types import IntegerType\n",
        "import pyspark.sql.functions as f\n",
        "\n",
        "remove_S_udf = f.udf(lambda x : remove_s(x), IntegerType())\n",
        "spark.udf.register('remove_S_udf', remove_S_udf)"
      ]
    },
    {
      "cell_type": "code",
      "source": [
        "df = df.withColumn(\"age\",remove_S_udf('age'))\n",
        "df.select('age').show()"
      ],
      "metadata": {
        "colab": {
          "base_uri": "https://localhost:8080/"
        },
        "id": "bkW-MTx1gZKZ",
        "outputId": "23e1a2de-8dd8-445f-8c8d-af6dc79a34d9"
      },
      "execution_count": null,
      "outputs": [
        {
          "output_type": "stream",
          "name": "stdout",
          "text": [
            "+---+\n",
            "|age|\n",
            "+---+\n",
            "| 50|\n",
            "| 70|\n",
            "| 70|\n",
            "| 80|\n",
            "| 70|\n",
            "| 60|\n",
            "| 70|\n",
            "| 60|\n",
            "| 70|\n",
            "| 60|\n",
            "| 70|\n",
            "| 80|\n",
            "| 80|\n",
            "| 60|\n",
            "| 90|\n",
            "| 80|\n",
            "| 80|\n",
            "| 50|\n",
            "| 80|\n",
            "| 70|\n",
            "+---+\n",
            "only showing top 20 rows\n",
            "\n"
          ]
        }
      ]
    },
    {
      "cell_type": "markdown",
      "metadata": {
        "id": "A07bYRRKsT7g"
      },
      "source": [
        "Repeat the same, but for the **no_days** return the numbers only and show your dataframe"
      ]
    },
    {
      "cell_type": "code",
      "execution_count": null,
      "metadata": {
        "id": "GNI-PFRtsfUe"
      },
      "outputs": [],
      "source": [
        "df = df.withColumn(\"no_days\",df.no_days.cast('double'))"
      ]
    },
    {
      "cell_type": "markdown",
      "metadata": {
        "id": "_9zZ0Ollt92F"
      },
      "source": [
        "Print the schema"
      ]
    },
    {
      "cell_type": "code",
      "execution_count": null,
      "metadata": {
        "colab": {
          "base_uri": "https://localhost:8080/"
        },
        "id": "1jPrMWwStnHw",
        "outputId": "1140869f-fd4b-4f1f-a1b5-793677fda749"
      },
      "outputs": [
        {
          "output_type": "stream",
          "name": "stdout",
          "text": [
            "root\n",
            " |-- patient_id: long (nullable = true)\n",
            " |-- sex: string (nullable = true)\n",
            " |-- age: integer (nullable = true)\n",
            " |-- country: string (nullable = true)\n",
            " |-- province: string (nullable = true)\n",
            " |-- city: string (nullable = true)\n",
            " |-- infection_case: string (nullable = true)\n",
            " |-- infected_by: string (nullable = true)\n",
            " |-- contact_number: string (nullable = true)\n",
            " |-- symptom_onset_date: string (nullable = true)\n",
            " |-- confirmed_date: string (nullable = true)\n",
            " |-- released_date: string (nullable = true)\n",
            " |-- deceased_date: string (nullable = true)\n",
            " |-- state: string (nullable = true)\n",
            " |-- no_days: double (nullable = true)\n",
            " |-- is_male: integer (nullable = false)\n",
            " |-- is_dead: integer (nullable = false)\n",
            "\n"
          ]
        }
      ],
      "source": [
        "df.printSchema()"
      ]
    },
    {
      "cell_type": "markdown",
      "metadata": {
        "id": "sUk48CI9uAc4"
      },
      "source": [
        "**age** and **no_days** need to be typecasted as Double"
      ]
    },
    {
      "cell_type": "code",
      "execution_count": null,
      "metadata": {
        "id": "Oj4c9GBPuAGo"
      },
      "outputs": [],
      "source": [
        "df = df.withColumn(\"age\",df.age.cast('double'))"
      ]
    },
    {
      "cell_type": "markdown",
      "metadata": {
        "id": "sL15kFx2zErj"
      },
      "source": [
        "reprint the schema to check:"
      ]
    },
    {
      "cell_type": "code",
      "execution_count": null,
      "metadata": {
        "colab": {
          "base_uri": "https://localhost:8080/"
        },
        "id": "SNSzlraFvK21",
        "outputId": "516fcaa4-7be3-4795-9b93-ca83d688d469"
      },
      "outputs": [
        {
          "output_type": "stream",
          "name": "stdout",
          "text": [
            "root\n",
            " |-- patient_id: long (nullable = true)\n",
            " |-- sex: string (nullable = true)\n",
            " |-- age: double (nullable = true)\n",
            " |-- country: string (nullable = true)\n",
            " |-- province: string (nullable = true)\n",
            " |-- city: string (nullable = true)\n",
            " |-- infection_case: string (nullable = true)\n",
            " |-- infected_by: string (nullable = true)\n",
            " |-- contact_number: string (nullable = true)\n",
            " |-- symptom_onset_date: string (nullable = true)\n",
            " |-- confirmed_date: string (nullable = true)\n",
            " |-- released_date: string (nullable = true)\n",
            " |-- deceased_date: string (nullable = true)\n",
            " |-- state: string (nullable = true)\n",
            " |-- no_days: double (nullable = true)\n",
            " |-- is_male: integer (nullable = false)\n",
            " |-- is_dead: integer (nullable = false)\n",
            "\n"
          ]
        }
      ],
      "source": [
        "df.printSchema()"
      ]
    },
    {
      "cell_type": "markdown",
      "metadata": {
        "id": "LUFNsvsNsbYj"
      },
      "source": [
        "Kindly drop the columns below\n",
        "\n",
        " [\"patient_id\",\"sex\",\"infected_by\",\"contact_number\",\"released_date\",\"state\",\"symptom_onset_date\",\"confirmed_date\",\"deceased_date\",\"country\",\"no_days\",\"city\",\"infection_case\"]"
      ]
    },
    {
      "cell_type": "code",
      "execution_count": null,
      "metadata": {
        "id": "oNxK63RLWKB5",
        "colab": {
          "base_uri": "https://localhost:8080/"
        },
        "outputId": "bb6950d7-70bd-469e-8c76-d08c8586a712"
      },
      "outputs": [
        {
          "output_type": "stream",
          "name": "stdout",
          "text": [
            "root\n",
            " |-- age: double (nullable = true)\n",
            " |-- province: string (nullable = true)\n",
            " |-- is_male: integer (nullable = false)\n",
            " |-- is_dead: integer (nullable = false)\n",
            "\n"
          ]
        }
      ],
      "source": [
        "cols = (\"patient_id\",\"sex\",\"infected_by\",\"contact_number\",\n",
        "        \"released_date\",\"state\",\"symptom_onset_date\",\"confirmed_date\",\n",
        "        \"deceased_date\",\"country\",\"no_days\",\"city\",\"infection_case\")\n",
        "\n",
        "df = df.drop(*cols)\n",
        "df.printSchema()"
      ]
    },
    {
      "cell_type": "markdown",
      "metadata": {
        "id": "r54snirNshqD"
      },
      "source": [
        "Please recount the number of nulls now"
      ]
    },
    {
      "cell_type": "code",
      "execution_count": null,
      "metadata": {
        "colab": {
          "base_uri": "https://localhost:8080/"
        },
        "id": "lEoIdqvqa_au",
        "outputId": "07cebc10-11ce-40da-9cb0-34aa983de663"
      },
      "outputs": [
        {
          "output_type": "stream",
          "name": "stdout",
          "text": [
            "+---+--------+-------+-------+\n",
            "|age|province|is_male|is_dead|\n",
            "+---+--------+-------+-------+\n",
            "|  0|       0|      0|      0|\n",
            "+---+--------+-------+-------+\n",
            "\n"
          ]
        }
      ],
      "source": [
        "df.select([count(when(isnan(c) | col(c).isNull(), c)).alias(c) for c in df.columns]).show()"
      ]
    },
    {
      "cell_type": "markdown",
      "metadata": {
        "id": "7sB2bOl_sobE"
      },
      "source": [
        "We will handle the null values next lab using imputer, look it up if you would like.\n",
        "\n",
        "Best of luck dears 🤩🤩🤩\n",
        "\n",
        "If you have any questions you can reach out to me:\n",
        "\n",
        "### Omar Hammad\n",
        "#### Software Engineer\n",
        "##### Email: ommar365@gmail.com\n",
        "##### Phone: 01144070145\n",
        "##### Linkedin: https://www.linkedin.com/in/omar-a-hammad"
      ]
    }
  ],
  "metadata": {
    "colab": {
      "collapsed_sections": [
        "n3LYFm-ri2hF"
      ],
      "name": "Maryam Mostafa - Practical_Session_1_G2.ipynb",
      "provenance": [],
      "include_colab_link": true
    },
    "interpreter": {
      "hash": "88c20d94c3ccb95a2b509e813ebf492254ea19b385d94460a52d10d9823f687f"
    },
    "kernelspec": {
      "display_name": "Python 3.9.10 ('2022.1.0')",
      "language": "python",
      "name": "python3"
    },
    "language_info": {
      "codemirror_mode": {
        "name": "ipython",
        "version": 3
      },
      "file_extension": ".py",
      "mimetype": "text/x-python",
      "name": "python",
      "nbconvert_exporter": "python",
      "pygments_lexer": "ipython3",
      "version": "3.9.10"
    }
  },
  "nbformat": 4,
  "nbformat_minor": 0
}
