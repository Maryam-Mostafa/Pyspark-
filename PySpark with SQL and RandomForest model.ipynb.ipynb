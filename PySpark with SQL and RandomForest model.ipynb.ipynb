{
  "cells": [
    {
      "cell_type": "markdown",
      "metadata": {
        "id": "view-in-github",
        "colab_type": "text"
      },
      "source": [
        "<a href=\"https://colab.research.google.com/github/Maryam-Mostafa/Pyspark-/blob/master/PySpark%20with%20SQL%20and%20RandomForest%20model.ipynb.ipynb\" target=\"_parent\"><img src=\"https://colab.research.google.com/assets/colab-badge.svg\" alt=\"Open In Colab\"/></a>"
      ]
    },
    {
      "cell_type": "markdown",
      "metadata": {
        "id": "MFzJJiVo0o_x"
      },
      "source": [
        "# Lab 2 PySpark:\n",
        "\n",
        "### Machine Learning"
      ]
    },
    {
      "cell_type": "markdown",
      "metadata": {
        "id": "Do59lBoF0o_6"
      },
      "source": [
        "#### But first, let's do some SQL :)"
      ]
    },
    {
      "cell_type": "markdown",
      "metadata": {
        "id": "da_vEtbh0o_7"
      },
      "source": [
        "**First, install and import PySPark and SparkSession**"
      ]
    },
    {
      "cell_type": "code",
      "execution_count": null,
      "metadata": {
        "colab": {
          "base_uri": "https://localhost:8080/"
        },
        "id": "BRU_WPaU0o_9",
        "outputId": "2b264859-39d6-4460-a1bd-3dc1a67ce0d1"
      },
      "outputs": [
        {
          "output_type": "stream",
          "name": "stdout",
          "text": [
            "Looking in indexes: https://pypi.org/simple, https://us-python.pkg.dev/colab-wheels/public/simple/\n",
            "Collecting pyspark\n",
            "  Downloading pyspark-3.2.1.tar.gz (281.4 MB)\n",
            "\u001b[K     |████████████████████████████████| 281.4 MB 31 kB/s \n",
            "\u001b[?25hCollecting py4j==0.10.9.3\n",
            "  Downloading py4j-0.10.9.3-py2.py3-none-any.whl (198 kB)\n",
            "\u001b[K     |████████████████████████████████| 198 kB 42.0 MB/s \n",
            "\u001b[?25hBuilding wheels for collected packages: pyspark\n",
            "  Building wheel for pyspark (setup.py) ... \u001b[?25l\u001b[?25hdone\n",
            "  Created wheel for pyspark: filename=pyspark-3.2.1-py2.py3-none-any.whl size=281853642 sha256=ba67d8afb2127fcfd8b4d520de62fccad527dc26aae862ed205983cb7f1570c7\n",
            "  Stored in directory: /root/.cache/pip/wheels/9f/f5/07/7cd8017084dce4e93e84e92efd1e1d5334db05f2e83bcef74f\n",
            "Successfully built pyspark\n",
            "Installing collected packages: py4j, pyspark\n",
            "Successfully installed py4j-0.10.9.3 pyspark-3.2.1\n"
          ]
        }
      ],
      "source": [
        "!pip install pyspark"
      ]
    },
    {
      "cell_type": "code",
      "source": [
        "import pyspark\n",
        "from pyspark.sql import SparkSession\n",
        "spark = SparkSession.builder.master(\"local[1]\") \\\n",
        "                    .appName('SparkByExamples.com') \\\n",
        "                    .getOrCreate()\n",
        "\n",
        "print('PySpark Version :'+spark.version)"
      ],
      "metadata": {
        "colab": {
          "base_uri": "https://localhost:8080/"
        },
        "id": "CVMsD3VH1LQm",
        "outputId": "99a160e9-8d8c-4d56-d29e-9884623df621"
      },
      "execution_count": null,
      "outputs": [
        {
          "output_type": "stream",
          "name": "stdout",
          "text": [
            "PySpark Version :3.2.1\n"
          ]
        }
      ]
    },
    {
      "cell_type": "code",
      "execution_count": null,
      "metadata": {
        "id": "RQ6jBUR50o_9"
      },
      "outputs": [],
      "source": [
        ""
      ]
    },
    {
      "cell_type": "markdown",
      "metadata": {
        "id": "V3OS53Fj0o_-"
      },
      "source": [
        "**Now, download the dataset**"
      ]
    },
    {
      "cell_type": "code",
      "execution_count": null,
      "metadata": {
        "colab": {
          "base_uri": "https://localhost:8080/"
        },
        "id": "ff1PjUAz0o_-",
        "outputId": "af99cfac-055f-4654-f3cc-49843b28c504"
      },
      "outputs": [
        {
          "output_type": "stream",
          "name": "stdout",
          "text": [
            "Downloading...\n",
            "From: https://drive.google.com/uc?id=1PB6wBDVTM_eocxOyi0lWlLBQOlH0rLe_\n",
            "To: /content/PatientInfo.csv\n",
            "\r  0% 0.00/489k [00:00<?, ?B/s]\r100% 489k/489k [00:00<00:00, 106MB/s]\n"
          ]
        }
      ],
      "source": [
        "!gdown https://drive.google.com/uc?id=1PB6wBDVTM_eocxOyi0lWlLBQOlH0rLe_ -O PatientInfo.csv"
      ]
    },
    {
      "cell_type": "markdown",
      "metadata": {
        "id": "DtOb3sug0pAA"
      },
      "source": [
        "**Create a SparkSession object and name the app \"Lab2\"**"
      ]
    },
    {
      "cell_type": "code",
      "execution_count": null,
      "metadata": {
        "id": "fWArxbAs0pAA"
      },
      "outputs": [],
      "source": [
        "import pyspark\n",
        "from pyspark.sql import SparkSession"
      ]
    },
    {
      "cell_type": "code",
      "source": [
        "spark = SparkSession.builder.appName('Lab2_G2').getOrCreate()"
      ],
      "metadata": {
        "id": "WQaGh-1G4HSP"
      },
      "execution_count": null,
      "outputs": []
    },
    {
      "cell_type": "markdown",
      "metadata": {
        "id": "PqTuCyQY0pAB"
      },
      "source": [
        "**1. Read the file PatientInfo.csv into a dataframe**"
      ]
    },
    {
      "cell_type": "code",
      "execution_count": null,
      "metadata": {
        "id": "IBZD_Niq0pAC"
      },
      "outputs": [],
      "source": [
        "df = spark.read.csv('/content/PatientInfo.csv', header = True, inferSchema=True)"
      ]
    },
    {
      "cell_type": "markdown",
      "metadata": {
        "id": "mfvK3hCw0pAC"
      },
      "source": [
        "**Show the first 5 lines of the dataframe**"
      ]
    },
    {
      "cell_type": "code",
      "execution_count": null,
      "metadata": {
        "id": "_5JNBT3Q0pAC",
        "colab": {
          "base_uri": "https://localhost:8080/"
        },
        "outputId": "11dae3cf-2d1f-4051-f107-cb31e5701db0"
      },
      "outputs": [
        {
          "output_type": "stream",
          "name": "stdout",
          "text": [
            "+----------+------+---+-------+--------+-----------+--------------------+-----------+--------------+------------------+--------------+-------------+-------------+--------+\n",
            "|patient_id|   sex|age|country|province|       city|      infection_case|infected_by|contact_number|symptom_onset_date|confirmed_date|released_date|deceased_date|   state|\n",
            "+----------+------+---+-------+--------+-----------+--------------------+-----------+--------------+------------------+--------------+-------------+-------------+--------+\n",
            "|1000000001|  male|50s|  Korea|   Seoul| Gangseo-gu|     overseas inflow|       null|            75|        2020-01-22|    2020-01-23|   2020-02-05|         null|released|\n",
            "|1000000002|  male|30s|  Korea|   Seoul|Jungnang-gu|     overseas inflow|       null|            31|              null|    2020-01-30|   2020-03-02|         null|released|\n",
            "|1000000003|  male|50s|  Korea|   Seoul|  Jongno-gu|contact with patient| 2002000001|            17|              null|    2020-01-30|   2020-02-19|         null|released|\n",
            "|1000000004|  male|20s|  Korea|   Seoul|    Mapo-gu|     overseas inflow|       null|             9|        2020-01-26|    2020-01-30|   2020-02-15|         null|released|\n",
            "|1000000005|female|20s|  Korea|   Seoul|Seongbuk-gu|contact with patient| 1000000002|             2|              null|    2020-01-31|   2020-02-24|         null|released|\n",
            "+----------+------+---+-------+--------+-----------+--------------------+-----------+--------------+------------------+--------------+-------------+-------------+--------+\n",
            "only showing top 5 rows\n",
            "\n"
          ]
        }
      ],
      "source": [
        "df.show(5)"
      ]
    },
    {
      "cell_type": "markdown",
      "metadata": {
        "id": "WOGHQ9PN0pAD"
      },
      "source": [
        "**Now do the same but using SQL select statement**"
      ]
    },
    {
      "cell_type": "markdown",
      "metadata": {
        "id": "WJIZ1_lh0pAD"
      },
      "source": [
        "1. Create a temporary view (table) called patients"
      ]
    },
    {
      "cell_type": "code",
      "execution_count": null,
      "metadata": {
        "id": "an2qfUVm0pAE"
      },
      "outputs": [],
      "source": [
        "df.createOrReplaceTempView(\"patients\")"
      ]
    },
    {
      "cell_type": "markdown",
      "metadata": {
        "id": "89bQZCG20pAE"
      },
      "source": [
        "2. Use SELECT statement to select all columns from the dataframe"
      ]
    },
    {
      "cell_type": "code",
      "execution_count": null,
      "metadata": {
        "id": "3f8wyhAN0pAE",
        "colab": {
          "base_uri": "https://localhost:8080/"
        },
        "outputId": "e79edcd3-536d-4783-859a-cebe86ced7dd"
      },
      "outputs": [
        {
          "output_type": "stream",
          "name": "stdout",
          "text": [
            "+----------+------+---+-------+--------+------------+--------------------+-----------+--------------+------------------+--------------+-------------+-------------+--------+\n",
            "|patient_id|   sex|age|country|province|        city|      infection_case|infected_by|contact_number|symptom_onset_date|confirmed_date|released_date|deceased_date|   state|\n",
            "+----------+------+---+-------+--------+------------+--------------------+-----------+--------------+------------------+--------------+-------------+-------------+--------+\n",
            "|1000000001|  male|50s|  Korea|   Seoul|  Gangseo-gu|     overseas inflow|       null|            75|        2020-01-22|    2020-01-23|   2020-02-05|         null|released|\n",
            "|1000000002|  male|30s|  Korea|   Seoul| Jungnang-gu|     overseas inflow|       null|            31|              null|    2020-01-30|   2020-03-02|         null|released|\n",
            "|1000000003|  male|50s|  Korea|   Seoul|   Jongno-gu|contact with patient| 2002000001|            17|              null|    2020-01-30|   2020-02-19|         null|released|\n",
            "|1000000004|  male|20s|  Korea|   Seoul|     Mapo-gu|     overseas inflow|       null|             9|        2020-01-26|    2020-01-30|   2020-02-15|         null|released|\n",
            "|1000000005|female|20s|  Korea|   Seoul| Seongbuk-gu|contact with patient| 1000000002|             2|              null|    2020-01-31|   2020-02-24|         null|released|\n",
            "|1000000006|female|50s|  Korea|   Seoul|   Jongno-gu|contact with patient| 1000000003|            43|              null|    2020-01-31|   2020-02-19|         null|released|\n",
            "|1000000007|  male|20s|  Korea|   Seoul|   Jongno-gu|contact with patient| 1000000003|             0|              null|    2020-01-31|   2020-02-10|         null|released|\n",
            "|1000000008|  male|20s|  Korea|   Seoul|         etc|     overseas inflow|       null|             0|              null|    2020-02-02|   2020-02-24|         null|released|\n",
            "|1000000009|  male|30s|  Korea|   Seoul|   Songpa-gu|     overseas inflow|       null|            68|              null|    2020-02-05|   2020-02-21|         null|released|\n",
            "|1000000010|female|60s|  Korea|   Seoul| Seongbuk-gu|contact with patient| 1000000003|             6|              null|    2020-02-05|   2020-02-29|         null|released|\n",
            "|1000000011|female|50s|  China|   Seoul|Seodaemun-gu|     overseas inflow|       null|            23|              null|    2020-02-06|   2020-02-29|         null|released|\n",
            "|1000000012|  male|20s|  Korea|   Seoul|         etc|     overseas inflow|       null|             0|              null|    2020-02-07|   2020-02-27|         null|released|\n",
            "|1000000013|  male|80s|  Korea|   Seoul|   Jongno-gu|contact with patient| 1000000017|           117|              null|    2020-02-16|         null|         null|deceased|\n",
            "|1000000014|female|60s|  Korea|   Seoul|   Jongno-gu|contact with patient| 1000000013|            27|        2020-02-06|    2020-02-16|   2020-03-12|         null|released|\n",
            "|1000000015|  male|70s|  Korea|   Seoul|Seongdong-gu|    Seongdong-gu APT|       null|             8|        2020-02-11|    2020-02-19|         null|         null|released|\n",
            "|1000000016|  male|70s|  Korea|   Seoul|   Jongno-gu|contact with patient| 1000000017|          null|              null|    2020-02-19|   2020-03-11|         null|released|\n",
            "|1000000017|  male|70s|  Korea|   Seoul|   Jongno-gu|contact with patient| 1000000003|          null|              null|    2020-02-20|   2020-03-01|         null|released|\n",
            "|1000000018|  male|20s|  Korea|   Seoul|         etc|                 etc|       null|          null|              null|    2020-02-20|         null|         null|released|\n",
            "|1000000019|female|70s|  Korea|   Seoul|   Jongno-gu|contact with patient| 1000000021|          null|              null|    2020-02-20|   2020-03-08|         null|released|\n",
            "|1000000020|female|70s|  Korea|   Seoul|Seongdong-gu|    Seongdong-gu APT| 1000000015|          null|              null|    2020-02-20|         null|         null|released|\n",
            "+----------+------+---+-------+--------+------------+--------------------+-----------+--------------+------------------+--------------+-------------+-------------+--------+\n",
            "only showing top 20 rows\n",
            "\n"
          ]
        }
      ],
      "source": [
        "sqlDF = spark.sql(\"SELECT * FROM patients\")\n",
        "sqlDF.show()"
      ]
    },
    {
      "cell_type": "markdown",
      "metadata": {
        "id": "8kmg83Ts0pAF"
      },
      "source": [
        "3. Limit the output to only 5 rows *using SQL commands*"
      ]
    },
    {
      "cell_type": "code",
      "execution_count": null,
      "metadata": {
        "id": "0ysE0Ww50pAF",
        "colab": {
          "base_uri": "https://localhost:8080/"
        },
        "outputId": "d7dc8b46-3a09-419f-93ab-7b020a1cc045"
      },
      "outputs": [
        {
          "output_type": "stream",
          "name": "stdout",
          "text": [
            "+----------+------+---+-------+--------+-----------+--------------------+-----------+--------------+------------------+--------------+-------------+-------------+--------+\n",
            "|patient_id|   sex|age|country|province|       city|      infection_case|infected_by|contact_number|symptom_onset_date|confirmed_date|released_date|deceased_date|   state|\n",
            "+----------+------+---+-------+--------+-----------+--------------------+-----------+--------------+------------------+--------------+-------------+-------------+--------+\n",
            "|1000000001|  male|50s|  Korea|   Seoul| Gangseo-gu|     overseas inflow|       null|            75|        2020-01-22|    2020-01-23|   2020-02-05|         null|released|\n",
            "|1000000002|  male|30s|  Korea|   Seoul|Jungnang-gu|     overseas inflow|       null|            31|              null|    2020-01-30|   2020-03-02|         null|released|\n",
            "|1000000003|  male|50s|  Korea|   Seoul|  Jongno-gu|contact with patient| 2002000001|            17|              null|    2020-01-30|   2020-02-19|         null|released|\n",
            "|1000000004|  male|20s|  Korea|   Seoul|    Mapo-gu|     overseas inflow|       null|             9|        2020-01-26|    2020-01-30|   2020-02-15|         null|released|\n",
            "|1000000005|female|20s|  Korea|   Seoul|Seongbuk-gu|contact with patient| 1000000002|             2|              null|    2020-01-31|   2020-02-24|         null|released|\n",
            "+----------+------+---+-------+--------+-----------+--------------------+-----------+--------------+------------------+--------------+-------------+-------------+--------+\n",
            "\n"
          ]
        }
      ],
      "source": [
        "sqlDF = spark.sql(\"SELECT * FROM patients limit 5\")\n",
        "sqlDF.show()"
      ]
    },
    {
      "cell_type": "markdown",
      "metadata": {
        "id": "2MOSDInr0pAF"
      },
      "source": [
        "4. Select the count of males and females in the dataset"
      ]
    },
    {
      "cell_type": "code",
      "execution_count": null,
      "metadata": {
        "id": "89B_XD5t0pAG",
        "colab": {
          "base_uri": "https://localhost:8080/"
        },
        "outputId": "0e107601-d4b6-46e2-a636-d9f1ec24b715"
      },
      "outputs": [
        {
          "output_type": "stream",
          "name": "stdout",
          "text": [
            "+-----------+-------------+\n",
            "|Males_count|Females_count|\n",
            "+-----------+-------------+\n",
            "|       1825|         2218|\n",
            "+-----------+-------------+\n",
            "\n"
          ]
        }
      ],
      "source": [
        "sqlDF4 = spark.sql(\"select SUM(case when sex = 'male' then 1 end) as Males_count\\\n",
        "                  , SUM(case when sex = 'female' then 1 end) as Females_count FROM patients\")\n",
        "sqlDF4.show()"
      ]
    },
    {
      "cell_type": "markdown",
      "metadata": {
        "id": "2MBtPhB90pAG"
      },
      "source": [
        "5. Select the count of males and females *as percentage* (how many percent of the data are males and how many are females?)"
      ]
    },
    {
      "cell_type": "code",
      "execution_count": null,
      "metadata": {
        "id": "4xH9TMX80pAG",
        "colab": {
          "base_uri": "https://localhost:8080/"
        },
        "outputId": "43644999-2864-43b4-9344-5c3415f0ca96"
      },
      "outputs": [
        {
          "output_type": "stream",
          "name": "stdout",
          "text": [
            "+-----------------+------------------+\n",
            "| Males_percentage|Females_percentage|\n",
            "+-----------------+------------------+\n",
            "|35.33397870280736|42.942884801548885|\n",
            "+-----------------+------------------+\n",
            "\n"
          ]
        }
      ],
      "source": [
        "sqlDF5 = spark.sql(\"select ((SUM(case when sex = 'male' then 1 end))/count(*))*100 as Males_percentage\\\n",
        "                  , (SUM(case when sex = 'female' then 1 end)/count(*))*100 as Females_percentage FROM patients\")\n",
        "sqlDF5.show()"
      ]
    },
    {
      "cell_type": "markdown",
      "metadata": {
        "id": "VDf1KZPS0pAG"
      },
      "source": [
        "6. How many people did survive, and how many didn't?"
      ]
    },
    {
      "cell_type": "code",
      "execution_count": null,
      "metadata": {
        "id": "r9cMpB7g0pAH",
        "colab": {
          "base_uri": "https://localhost:8080/"
        },
        "outputId": "999ac9fb-b52c-494e-ce93-98944bafdfbc"
      },
      "outputs": [
        {
          "output_type": "stream",
          "name": "stdout",
          "text": [
            "+------------+--------+\n",
            "|not_survived|survived|\n",
            "+------------+--------+\n",
            "|          78|    5087|\n",
            "+------------+--------+\n",
            "\n"
          ]
        }
      ],
      "source": [
        "sqlDF6 = spark.sql(\"select SUM(case when state = 'deceased' then 1 end) as not_survived\\\n",
        "                  , SUM(case when state != 'deceased' then 1 end) as survived FROM patients\")\n",
        "sqlDF6.show()"
      ]
    },
    {
      "cell_type": "markdown",
      "metadata": {
        "id": "yQJDeMZ40pAH"
      },
      "source": [
        "Now, let's perform some preprocessing using SQL:\n",
        "\n",
        "1. Convert *age* column to double after removing the 's' at the end -- *hint: check SUBSTRING method*\n",
        "2. Select only the following columns: `['sex', 'age', 'province', 'state']`\n",
        "3. Store the result of the query in a new dataframe"
      ]
    },
    {
      "cell_type": "code",
      "execution_count": null,
      "metadata": {
        "id": "4NE1bcgN0pAH",
        "colab": {
          "base_uri": "https://localhost:8080/"
        },
        "outputId": "4d8e08b4-e0d3-41ee-ff84-656f6f1b4fb4"
      },
      "outputs": [
        {
          "output_type": "stream",
          "name": "stdout",
          "text": [
            "+------+----+--------+--------+\n",
            "|   sex| age|province|   state|\n",
            "+------+----+--------+--------+\n",
            "|  male|50.0|   Seoul|released|\n",
            "|  male|30.0|   Seoul|released|\n",
            "|  male|50.0|   Seoul|released|\n",
            "|  male|20.0|   Seoul|released|\n",
            "|female|20.0|   Seoul|released|\n",
            "|female|50.0|   Seoul|released|\n",
            "|  male|20.0|   Seoul|released|\n",
            "|  male|20.0|   Seoul|released|\n",
            "|  male|30.0|   Seoul|released|\n",
            "|female|60.0|   Seoul|released|\n",
            "|female|50.0|   Seoul|released|\n",
            "|  male|20.0|   Seoul|released|\n",
            "|  male|80.0|   Seoul|deceased|\n",
            "|female|60.0|   Seoul|released|\n",
            "|  male|70.0|   Seoul|released|\n",
            "|  male|70.0|   Seoul|released|\n",
            "|  male|70.0|   Seoul|released|\n",
            "|  male|20.0|   Seoul|released|\n",
            "|female|70.0|   Seoul|released|\n",
            "|female|70.0|   Seoul|released|\n",
            "+------+----+--------+--------+\n",
            "only showing top 20 rows\n",
            "\n"
          ]
        }
      ],
      "source": [
        "newDF = spark.sql(\"select sex, double(substring(age,1,length(age)-1)) as age, province, state from patients\")\n",
        "newDF.show()"
      ]
    },
    {
      "cell_type": "code",
      "source": [
        ""
      ],
      "metadata": {
        "id": "YAnBG8jjFr-a"
      },
      "execution_count": null,
      "outputs": []
    },
    {
      "cell_type": "markdown",
      "metadata": {
        "id": "S7j0nRrA0pAH"
      },
      "source": [
        "Now view the new dataframe to make sure everything is alright"
      ]
    },
    {
      "cell_type": "code",
      "execution_count": null,
      "metadata": {
        "id": "UvD7KsvW0pAI",
        "colab": {
          "base_uri": "https://localhost:8080/"
        },
        "outputId": "b5f64f48-4817-4adb-ff2d-b99c45b9e0a1"
      },
      "outputs": [
        {
          "output_type": "stream",
          "name": "stdout",
          "text": [
            "root\n",
            " |-- sex: string (nullable = true)\n",
            " |-- age: double (nullable = true)\n",
            " |-- province: string (nullable = true)\n",
            " |-- state: string (nullable = true)\n",
            "\n"
          ]
        }
      ],
      "source": [
        "newDF.printSchema()"
      ]
    },
    {
      "cell_type": "markdown",
      "metadata": {
        "id": "EQvRHrFW0pAI"
      },
      "source": [
        "**Now, let's get back to spark operations**\n",
        "\n",
        "Please copy the following operations from your solution in Lab 1\n",
        "___"
      ]
    },
    {
      "cell_type": "markdown",
      "metadata": {
        "id": "FLRwj6Uo0pAI"
      },
      "source": [
        "Add a **is_dead** column if patient state is not released then it should yield true, else then False"
      ]
    },
    {
      "cell_type": "code",
      "execution_count": null,
      "metadata": {
        "id": "zNBMvnLq0pAI",
        "colab": {
          "base_uri": "https://localhost:8080/"
        },
        "outputId": "06f9f043-5c4d-4b74-b52c-932cdaeab15a"
      },
      "outputs": [
        {
          "output_type": "stream",
          "name": "stdout",
          "text": [
            "+------+----+--------+--------+-------+\n",
            "|   sex| age|province|   state|is_dead|\n",
            "+------+----+--------+--------+-------+\n",
            "|  male|50.0|   Seoul|released|      0|\n",
            "|  male|30.0|   Seoul|released|      0|\n",
            "|  male|50.0|   Seoul|released|      0|\n",
            "|  male|20.0|   Seoul|released|      0|\n",
            "|female|20.0|   Seoul|released|      0|\n",
            "|female|50.0|   Seoul|released|      0|\n",
            "|  male|20.0|   Seoul|released|      0|\n",
            "|  male|20.0|   Seoul|released|      0|\n",
            "|  male|30.0|   Seoul|released|      0|\n",
            "|female|60.0|   Seoul|released|      0|\n",
            "|female|50.0|   Seoul|released|      0|\n",
            "|  male|20.0|   Seoul|released|      0|\n",
            "|  male|80.0|   Seoul|deceased|      1|\n",
            "|female|60.0|   Seoul|released|      0|\n",
            "|  male|70.0|   Seoul|released|      0|\n",
            "|  male|70.0|   Seoul|released|      0|\n",
            "|  male|70.0|   Seoul|released|      0|\n",
            "|  male|20.0|   Seoul|released|      0|\n",
            "|female|70.0|   Seoul|released|      0|\n",
            "|female|70.0|   Seoul|released|      0|\n",
            "+------+----+--------+--------+-------+\n",
            "only showing top 20 rows\n",
            "\n"
          ]
        }
      ],
      "source": [
        " from pyspark.sql.functions import when, lit\n",
        "\n",
        "df1 = newDF.withColumn(\"is_dead\", \\\n",
        "   when((newDF.state == 'deceased'), lit(1))\\\n",
        "     .otherwise(lit(0)) \\\n",
        "  )\n",
        "df1.show()"
      ]
    },
    {
      "cell_type": "code",
      "execution_count": null,
      "metadata": {
        "id": "7Wa45ddh0pAI"
      },
      "outputs": [],
      "source": [
        ""
      ]
    },
    {
      "cell_type": "code",
      "execution_count": null,
      "metadata": {
        "id": "HH_vCIEs0pAJ"
      },
      "outputs": [],
      "source": [
        ""
      ]
    },
    {
      "cell_type": "markdown",
      "metadata": {
        "id": "4dXhafDe0pAJ"
      },
      "source": [
        "**Please split the data into train and test dataframes**\n",
        "\n",
        "*Ratio: 80:20 - Seed=42*"
      ]
    },
    {
      "cell_type": "code",
      "execution_count": null,
      "metadata": {
        "id": "GZmoneQE0pAJ"
      },
      "outputs": [],
      "source": [
        "train, test = df1.randomSplit([0.8,0.2], seed = 42)"
      ]
    },
    {
      "cell_type": "code",
      "execution_count": null,
      "metadata": {
        "id": "aJqOA3B30pAJ",
        "colab": {
          "base_uri": "https://localhost:8080/"
        },
        "outputId": "5d0a112d-8717-472c-9d79-5c4974439ac8"
      },
      "outputs": [
        {
          "output_type": "stream",
          "name": "stdout",
          "text": [
            "+----+----+-----------+--------+-------+\n",
            "| sex| age|   province|   state|is_dead|\n",
            "+----+----+-----------+--------+-------+\n",
            "|null|null|      Busan|isolated|      0|\n",
            "|null|null|      Busan|isolated|      0|\n",
            "|null|null|Gyeonggi-do|isolated|      0|\n",
            "|null|null|Gyeonggi-do|isolated|      0|\n",
            "|null|null|Gyeonggi-do|isolated|      0|\n",
            "+----+----+-----------+--------+-------+\n",
            "only showing top 5 rows\n",
            "\n"
          ]
        }
      ],
      "source": [
        "train.show(5)"
      ]
    },
    {
      "cell_type": "code",
      "execution_count": null,
      "metadata": {
        "id": "JSQEa1UL0pAJ",
        "colab": {
          "base_uri": "https://localhost:8080/"
        },
        "outputId": "641c849f-6eac-474d-a6e5-50e08145409f"
      },
      "outputs": [
        {
          "output_type": "stream",
          "name": "stdout",
          "text": [
            "+----+----+-----------+--------+-------+\n",
            "| sex| age|   province|   state|is_dead|\n",
            "+----+----+-----------+--------+-------+\n",
            "|null|null|Gyeonggi-do|isolated|      0|\n",
            "|null|null|Gyeonggi-do|isolated|      0|\n",
            "|null|null|Gyeonggi-do|isolated|      0|\n",
            "|null|null|Gyeonggi-do|isolated|      0|\n",
            "|null|null|Gyeonggi-do|isolated|      0|\n",
            "+----+----+-----------+--------+-------+\n",
            "only showing top 5 rows\n",
            "\n"
          ]
        }
      ],
      "source": [
        "test.show(5)"
      ]
    },
    {
      "cell_type": "markdown",
      "metadata": {
        "id": "GgRQDiNN0pAK"
      },
      "source": [
        "**Now, let's import RandomForestClassifier and start our ML pipeline**"
      ]
    },
    {
      "cell_type": "code",
      "execution_count": null,
      "metadata": {
        "id": "EMp-ekkD0pAK"
      },
      "outputs": [],
      "source": [
        "from pyspark.mllib.tree import RandomForest"
      ]
    },
    {
      "cell_type": "markdown",
      "metadata": {
        "id": "Tw7vabNM0pAK"
      },
      "source": [
        "**Create a pipeline that contains the following stages:**\n",
        "\n",
        "- Imputer: impute the null values in `age` column to the mean value\n",
        "- StringIndexer: convert `sex` to `is_male` and `province` to `province_index` as numerical values\n",
        "- OneHotEncoder: perform one hot encoding on both `is_male` and -province_index`\n",
        "- VectorAssembler: assemble feature vector from the following columns: `'age', 'is_male', 'province_index'`\n",
        "- RandomForestClassifier: final estimator"
      ]
    },
    {
      "cell_type": "code",
      "source": [
        "from pyspark.ml.feature import Imputer\n",
        "\n",
        "imputer = Imputer(inputCol=\"age\", outputCol=\"age\").setStrategy(\"mean\")\n",
        "model1 = imputer.fit(df1)\n",
        "model1.transform(df1).show()"
      ],
      "metadata": {
        "colab": {
          "base_uri": "https://localhost:8080/"
        },
        "id": "2qJ-u8L7N28V",
        "outputId": "a87d2495-6818-4a5a-b155-4cc17fcf2f6c"
      },
      "execution_count": null,
      "outputs": [
        {
          "output_type": "stream",
          "name": "stdout",
          "text": [
            "+------+----+--------+--------+-------+\n",
            "|   sex| age|province|   state|is_dead|\n",
            "+------+----+--------+--------+-------+\n",
            "|  male|50.0|   Seoul|released|      0|\n",
            "|  male|30.0|   Seoul|released|      0|\n",
            "|  male|50.0|   Seoul|released|      0|\n",
            "|  male|20.0|   Seoul|released|      0|\n",
            "|female|20.0|   Seoul|released|      0|\n",
            "|female|50.0|   Seoul|released|      0|\n",
            "|  male|20.0|   Seoul|released|      0|\n",
            "|  male|20.0|   Seoul|released|      0|\n",
            "|  male|30.0|   Seoul|released|      0|\n",
            "|female|60.0|   Seoul|released|      0|\n",
            "|female|50.0|   Seoul|released|      0|\n",
            "|  male|20.0|   Seoul|released|      0|\n",
            "|  male|80.0|   Seoul|deceased|      1|\n",
            "|female|60.0|   Seoul|released|      0|\n",
            "|  male|70.0|   Seoul|released|      0|\n",
            "|  male|70.0|   Seoul|released|      0|\n",
            "|  male|70.0|   Seoul|released|      0|\n",
            "|  male|20.0|   Seoul|released|      0|\n",
            "|female|70.0|   Seoul|released|      0|\n",
            "|female|70.0|   Seoul|released|      0|\n",
            "+------+----+--------+--------+-------+\n",
            "only showing top 20 rows\n",
            "\n"
          ]
        }
      ]
    },
    {
      "cell_type": "markdown",
      "source": [
        "the pipeline structure "
      ],
      "metadata": {
        "id": "X02GHSswT6BX"
      }
    },
    {
      "cell_type": "code",
      "source": [
        "from pyspark.ml.feature import StringIndexer, OneHotEncoder, VectorAssembler\n",
        "from pyspark.ml.classification import RandomForestClassifier\n",
        "from pyspark.ml import Pipeline"
      ],
      "metadata": {
        "id": "Cjx78yphT4vS"
      },
      "execution_count": null,
      "outputs": []
    },
    {
      "cell_type": "code",
      "source": [
        "stringIndexer = StringIndexer(inputCols=['sex','province'],outputCols=['is_male', 'province_index'], handleInvalid='skip')\n",
        "\n",
        "oheEncoder = OneHotEncoder(inputCols=['is_male', 'province_index'], outputCols=['is_male_OHE', 'province_index_OHE'])\n",
        "\n",
        "vecAssembler = VectorAssembler(inputCols=['age', 'is_male_OHE', 'province_index_OHE'],outputCol='features', handleInvalid = \"skip\")"
      ],
      "metadata": {
        "id": "ppTH7UXQUMcD"
      },
      "execution_count": null,
      "outputs": []
    },
    {
      "cell_type": "code",
      "source": [
        "rf = RandomForestClassifier(featuresCol='features',labelCol='is_dead', numTrees=3, maxDepth=2, seed=42)"
      ],
      "metadata": {
        "id": "21C-UkDvWdhw"
      },
      "execution_count": null,
      "outputs": []
    },
    {
      "cell_type": "code",
      "source": [
        "stgs = [stringIndexer,oheEncoder,vecAssembler,rf]"
      ],
      "metadata": {
        "id": "dB8D91_mV-M3"
      },
      "execution_count": null,
      "outputs": []
    },
    {
      "cell_type": "code",
      "source": [
        "pl = Pipeline(stages=stgs)"
      ],
      "metadata": {
        "id": "eolYndoBV4Xz"
      },
      "execution_count": null,
      "outputs": []
    },
    {
      "cell_type": "markdown",
      "metadata": {
        "id": "5ASFC6k30pAL"
      },
      "source": [
        "Fit the pipeline to the train dataframe"
      ]
    },
    {
      "cell_type": "code",
      "source": [
        "pl_Model = pl.fit(train)"
      ],
      "metadata": {
        "id": "gwH-jUMeWMOd"
      },
      "execution_count": null,
      "outputs": []
    },
    {
      "cell_type": "markdown",
      "metadata": {
        "id": "SuozzqeT0pAL"
      },
      "source": [
        "Now transform the test DF to get predictions"
      ]
    },
    {
      "cell_type": "code",
      "source": [
        "predDF = pl_Model.transform(test)"
      ],
      "metadata": {
        "id": "7umf1YYgWAdF"
      },
      "execution_count": null,
      "outputs": []
    },
    {
      "cell_type": "markdown",
      "metadata": {
        "id": "sYGJgCOu0pAM"
      },
      "source": [
        "Show the final predictions DF"
      ]
    },
    {
      "cell_type": "code",
      "execution_count": null,
      "metadata": {
        "id": "7OzO7fRH0pAM",
        "colab": {
          "base_uri": "https://localhost:8080/"
        },
        "outputId": "39a5ed67-2954-4057-cdf2-8b2859620457"
      },
      "outputs": [
        {
          "output_type": "stream",
          "name": "stdout",
          "text": [
            "+------+----+-----------------+--------+-------+-------+--------------+-------------+------------------+--------------------+--------------------+--------------------+----------+\n",
            "|   sex| age|         province|   state|is_dead|is_male|province_index|  is_male_OHE|province_index_OHE|            features|       rawPrediction|         probability|prediction|\n",
            "+------+----+-----------------+--------+-------+-------+--------------+-------------+------------------+--------------------+--------------------+--------------------+----------+\n",
            "|female| 0.0|      Gyeonggi-do|isolated|      0|    0.0|           2.0|(1,[0],[1.0])|    (16,[2],[1.0])|(18,[1,4],[1.0,1.0])|[2.95756849679989...|[0.98585616559996...|       0.0|\n",
            "|female| 0.0|      Gyeonggi-do|isolated|      0|    0.0|           2.0|(1,[0],[1.0])|    (16,[2],[1.0])|(18,[1,4],[1.0,1.0])|[2.95756849679989...|[0.98585616559996...|       0.0|\n",
            "|female| 0.0| Gyeongsangbuk-do|released|      0|    0.0|           1.0|(1,[0],[1.0])|    (16,[1],[1.0])|(18,[1,3],[1.0,1.0])|[2.95756849679989...|[0.98585616559996...|       0.0|\n",
            "|female|10.0|Chungcheongbuk-do|released|      0|    0.0|          10.0|(1,[0],[1.0])|   (16,[10],[1.0])|(18,[0,1,12],[10....|[2.95756849679989...|[0.98585616559996...|       0.0|\n",
            "|female|10.0|      Gyeonggi-do|isolated|      0|    0.0|           2.0|(1,[0],[1.0])|    (16,[2],[1.0])|(18,[0,1,4],[10.0...|[2.95756849679989...|[0.98585616559996...|       0.0|\n",
            "+------+----+-----------------+--------+-------+-------+--------------+-------------+------------------+--------------------+--------------------+--------------------+----------+\n",
            "only showing top 5 rows\n",
            "\n"
          ]
        }
      ],
      "source": [
        "predDF.show(5)"
      ]
    },
    {
      "cell_type": "code",
      "execution_count": null,
      "metadata": {
        "id": "SazZPR3X0pAM",
        "colab": {
          "base_uri": "https://localhost:8080/"
        },
        "outputId": "538fc5df-0169-4736-c2ec-d6f83b59f6a5"
      },
      "outputs": [
        {
          "output_type": "stream",
          "name": "stdout",
          "text": [
            "+----------------------------+-------+----------+\n",
            "|features                    |is_dead|prediction|\n",
            "+----------------------------+-------+----------+\n",
            "|(18,[1,4],[1.0,1.0])        |0      |0.0       |\n",
            "|(18,[1,4],[1.0,1.0])        |0      |0.0       |\n",
            "|(18,[1,3],[1.0,1.0])        |0      |0.0       |\n",
            "|(18,[0,1,12],[10.0,1.0,1.0])|0      |0.0       |\n",
            "|(18,[0,1,4],[10.0,1.0,1.0]) |0      |0.0       |\n",
            "+----------------------------+-------+----------+\n",
            "only showing top 5 rows\n",
            "\n"
          ]
        }
      ],
      "source": [
        "predDF.select('features','is_dead','prediction').show(5,truncate=False)"
      ]
    },
    {
      "cell_type": "markdown",
      "metadata": {
        "id": "RZB97sdA0pAM"
      },
      "source": [
        "**Model Evaluation**\n",
        "\n",
        "Now let's evaluate our model! Let's get the accuracy of our model"
      ]
    },
    {
      "cell_type": "code",
      "execution_count": null,
      "metadata": {
        "id": "urEtZr300pAN"
      },
      "outputs": [],
      "source": [
        "from pyspark.ml.evaluation import MulticlassClassificationEvaluator"
      ]
    },
    {
      "cell_type": "code",
      "source": [
        "predDF.columns"
      ],
      "metadata": {
        "colab": {
          "base_uri": "https://localhost:8080/"
        },
        "id": "wZPq-JDuyiHa",
        "outputId": "8be9950c-792e-46e8-8166-b6ed214fb784"
      },
      "execution_count": null,
      "outputs": [
        {
          "output_type": "execute_result",
          "data": {
            "text/plain": [
              "['sex',\n",
              " 'age',\n",
              " 'province',\n",
              " 'state',\n",
              " 'is_dead',\n",
              " 'is_male',\n",
              " 'province_index',\n",
              " 'is_male_OHE',\n",
              " 'province_index_OHE',\n",
              " 'features',\n",
              " 'rawPrediction',\n",
              " 'probability',\n",
              " 'prediction']"
            ]
          },
          "metadata": {},
          "execution_count": 39
        }
      ]
    },
    {
      "cell_type": "code",
      "execution_count": null,
      "metadata": {
        "id": "Y9UNfYL70pAN",
        "colab": {
          "base_uri": "https://localhost:8080/"
        },
        "outputId": "5341dee9-2e4d-4a7f-e792-8475ea4c36e6"
      },
      "outputs": [
        {
          "output_type": "stream",
          "name": "stdout",
          "text": [
            "Prediction Accuracy:  0.9733333333333334\n"
          ]
        }
      ],
      "source": [
        "evaluator=MulticlassClassificationEvaluator(predictionCol=\"prediction\", labelCol='is_dead', metricName=\"accuracy\")\n",
        "acc = evaluator.evaluate(predDF)\n",
        " \n",
        "print(\"Prediction Accuracy: \", acc)"
      ]
    },
    {
      "cell_type": "code",
      "source": [
        "evaluator=MulticlassClassificationEvaluator(predictionCol=\"prediction\", labelCol='is_dead', metricName=\"f1\")\n",
        "f1Score = evaluator.evaluate(predDF)\n",
        " \n",
        "print(\"Prediction f1-score: \", f1Score)"
      ],
      "metadata": {
        "id": "-F-ID_FO0wbt",
        "outputId": "e17c9e42-7d0b-45aa-d7e6-b9bf0ec4637c",
        "colab": {
          "base_uri": "https://localhost:8080/"
        }
      },
      "execution_count": null,
      "outputs": [
        {
          "output_type": "stream",
          "name": "stdout",
          "text": [
            "Prediction f1-score:  0.9601801801801801\n"
          ]
        }
      ]
    },
    {
      "cell_type": "markdown",
      "metadata": {
        "id": "ojydtFJy0pAN"
      },
      "source": [
        "Excellent! Now let's generate the confusion matrix of our predictions\n",
        "\n",
        "*Hint: we can use `scikit-learn`'s `classification_report`. You will need to transform the predictions into pandas DF first*"
      ]
    },
    {
      "cell_type": "code",
      "execution_count": null,
      "metadata": {
        "id": "fwfaWR2z0pAO"
      },
      "outputs": [],
      "source": [
        "from sklearn.metrics import confusion_matrix"
      ]
    },
    {
      "cell_type": "code",
      "execution_count": null,
      "metadata": {
        "id": "8FKJV8L10pAO",
        "colab": {
          "base_uri": "https://localhost:8080/"
        },
        "outputId": "7b93aef9-1056-4802-ef19-5a6919f62ed0"
      },
      "outputs": [
        {
          "output_type": "stream",
          "name": "stdout",
          "text": [
            "Confusion Matrix:\n",
            "[[730   0]\n",
            " [ 20   0]]\n"
          ]
        }
      ],
      "source": [
        "y_pred=predDF.select(\"prediction\").collect()\n",
        "y_orig=predDF.select(\"is_dead\").collect()\n",
        "\n",
        "cm = confusion_matrix(y_orig, y_pred)\n",
        "print(\"Confusion Matrix:\")\n",
        "print(cm)"
      ]
    },
    {
      "cell_type": "code",
      "source": [
        "#covert to pandas dataframe\n",
        "pandasDF = predDF.toPandas()\n",
        "pandasDF.head(5)"
      ],
      "metadata": {
        "id": "UV-ZiXkD1JX2",
        "outputId": "a5ad8d06-904c-45b3-e4a4-d5d765fedde8",
        "colab": {
          "base_uri": "https://localhost:8080/",
          "height": 617
        }
      },
      "execution_count": null,
      "outputs": [
        {
          "output_type": "execute_result",
          "data": {
            "text/plain": [
              "      sex   age           province     state  is_dead  is_male  \\\n",
              "0  female   0.0        Gyeonggi-do  isolated        0      0.0   \n",
              "1  female   0.0        Gyeonggi-do  isolated        0      0.0   \n",
              "2  female   0.0   Gyeongsangbuk-do  released        0      0.0   \n",
              "3  female  10.0  Chungcheongbuk-do  released        0      0.0   \n",
              "4  female  10.0        Gyeonggi-do  isolated        0      0.0   \n",
              "\n",
              "   province_index is_male_OHE  \\\n",
              "0             2.0       (1.0)   \n",
              "1             2.0       (1.0)   \n",
              "2             1.0       (1.0)   \n",
              "3            10.0       (1.0)   \n",
              "4             2.0       (1.0)   \n",
              "\n",
              "                                  province_index_OHE  \\\n",
              "0  (0.0, 0.0, 1.0, 0.0, 0.0, 0.0, 0.0, 0.0, 0.0, ...   \n",
              "1  (0.0, 0.0, 1.0, 0.0, 0.0, 0.0, 0.0, 0.0, 0.0, ...   \n",
              "2  (0.0, 1.0, 0.0, 0.0, 0.0, 0.0, 0.0, 0.0, 0.0, ...   \n",
              "3  (0.0, 0.0, 0.0, 0.0, 0.0, 0.0, 0.0, 0.0, 0.0, ...   \n",
              "4  (0.0, 0.0, 1.0, 0.0, 0.0, 0.0, 0.0, 0.0, 0.0, ...   \n",
              "\n",
              "                                            features  \\\n",
              "0  (0.0, 1.0, 0.0, 0.0, 1.0, 0.0, 0.0, 0.0, 0.0, ...   \n",
              "1  (0.0, 1.0, 0.0, 0.0, 1.0, 0.0, 0.0, 0.0, 0.0, ...   \n",
              "2  (0.0, 1.0, 0.0, 1.0, 0.0, 0.0, 0.0, 0.0, 0.0, ...   \n",
              "3  (10.0, 1.0, 0.0, 0.0, 0.0, 0.0, 0.0, 0.0, 0.0,...   \n",
              "4  (10.0, 1.0, 0.0, 0.0, 1.0, 0.0, 0.0, 0.0, 0.0,...   \n",
              "\n",
              "                                rawPrediction  \\\n",
              "0  [2.9575684967998965, 0.042431503200103644]   \n",
              "1  [2.9575684967998965, 0.042431503200103644]   \n",
              "2  [2.9575684967998965, 0.042431503200103644]   \n",
              "3  [2.9575684967998965, 0.042431503200103644]   \n",
              "4  [2.9575684967998965, 0.042431503200103644]   \n",
              "\n",
              "                                  probability  prediction  \n",
              "0  [0.9858561655999655, 0.014143834400034548]         0.0  \n",
              "1  [0.9858561655999655, 0.014143834400034548]         0.0  \n",
              "2  [0.9858561655999655, 0.014143834400034548]         0.0  \n",
              "3  [0.9858561655999655, 0.014143834400034548]         0.0  \n",
              "4  [0.9858561655999655, 0.014143834400034548]         0.0  "
            ],
            "text/html": [
              "\n",
              "  <div id=\"df-10cc8163-c383-4101-b59a-7f324d1de106\">\n",
              "    <div class=\"colab-df-container\">\n",
              "      <div>\n",
              "<style scoped>\n",
              "    .dataframe tbody tr th:only-of-type {\n",
              "        vertical-align: middle;\n",
              "    }\n",
              "\n",
              "    .dataframe tbody tr th {\n",
              "        vertical-align: top;\n",
              "    }\n",
              "\n",
              "    .dataframe thead th {\n",
              "        text-align: right;\n",
              "    }\n",
              "</style>\n",
              "<table border=\"1\" class=\"dataframe\">\n",
              "  <thead>\n",
              "    <tr style=\"text-align: right;\">\n",
              "      <th></th>\n",
              "      <th>sex</th>\n",
              "      <th>age</th>\n",
              "      <th>province</th>\n",
              "      <th>state</th>\n",
              "      <th>is_dead</th>\n",
              "      <th>is_male</th>\n",
              "      <th>province_index</th>\n",
              "      <th>is_male_OHE</th>\n",
              "      <th>province_index_OHE</th>\n",
              "      <th>features</th>\n",
              "      <th>rawPrediction</th>\n",
              "      <th>probability</th>\n",
              "      <th>prediction</th>\n",
              "    </tr>\n",
              "  </thead>\n",
              "  <tbody>\n",
              "    <tr>\n",
              "      <th>0</th>\n",
              "      <td>female</td>\n",
              "      <td>0.0</td>\n",
              "      <td>Gyeonggi-do</td>\n",
              "      <td>isolated</td>\n",
              "      <td>0</td>\n",
              "      <td>0.0</td>\n",
              "      <td>2.0</td>\n",
              "      <td>(1.0)</td>\n",
              "      <td>(0.0, 0.0, 1.0, 0.0, 0.0, 0.0, 0.0, 0.0, 0.0, ...</td>\n",
              "      <td>(0.0, 1.0, 0.0, 0.0, 1.0, 0.0, 0.0, 0.0, 0.0, ...</td>\n",
              "      <td>[2.9575684967998965, 0.042431503200103644]</td>\n",
              "      <td>[0.9858561655999655, 0.014143834400034548]</td>\n",
              "      <td>0.0</td>\n",
              "    </tr>\n",
              "    <tr>\n",
              "      <th>1</th>\n",
              "      <td>female</td>\n",
              "      <td>0.0</td>\n",
              "      <td>Gyeonggi-do</td>\n",
              "      <td>isolated</td>\n",
              "      <td>0</td>\n",
              "      <td>0.0</td>\n",
              "      <td>2.0</td>\n",
              "      <td>(1.0)</td>\n",
              "      <td>(0.0, 0.0, 1.0, 0.0, 0.0, 0.0, 0.0, 0.0, 0.0, ...</td>\n",
              "      <td>(0.0, 1.0, 0.0, 0.0, 1.0, 0.0, 0.0, 0.0, 0.0, ...</td>\n",
              "      <td>[2.9575684967998965, 0.042431503200103644]</td>\n",
              "      <td>[0.9858561655999655, 0.014143834400034548]</td>\n",
              "      <td>0.0</td>\n",
              "    </tr>\n",
              "    <tr>\n",
              "      <th>2</th>\n",
              "      <td>female</td>\n",
              "      <td>0.0</td>\n",
              "      <td>Gyeongsangbuk-do</td>\n",
              "      <td>released</td>\n",
              "      <td>0</td>\n",
              "      <td>0.0</td>\n",
              "      <td>1.0</td>\n",
              "      <td>(1.0)</td>\n",
              "      <td>(0.0, 1.0, 0.0, 0.0, 0.0, 0.0, 0.0, 0.0, 0.0, ...</td>\n",
              "      <td>(0.0, 1.0, 0.0, 1.0, 0.0, 0.0, 0.0, 0.0, 0.0, ...</td>\n",
              "      <td>[2.9575684967998965, 0.042431503200103644]</td>\n",
              "      <td>[0.9858561655999655, 0.014143834400034548]</td>\n",
              "      <td>0.0</td>\n",
              "    </tr>\n",
              "    <tr>\n",
              "      <th>3</th>\n",
              "      <td>female</td>\n",
              "      <td>10.0</td>\n",
              "      <td>Chungcheongbuk-do</td>\n",
              "      <td>released</td>\n",
              "      <td>0</td>\n",
              "      <td>0.0</td>\n",
              "      <td>10.0</td>\n",
              "      <td>(1.0)</td>\n",
              "      <td>(0.0, 0.0, 0.0, 0.0, 0.0, 0.0, 0.0, 0.0, 0.0, ...</td>\n",
              "      <td>(10.0, 1.0, 0.0, 0.0, 0.0, 0.0, 0.0, 0.0, 0.0,...</td>\n",
              "      <td>[2.9575684967998965, 0.042431503200103644]</td>\n",
              "      <td>[0.9858561655999655, 0.014143834400034548]</td>\n",
              "      <td>0.0</td>\n",
              "    </tr>\n",
              "    <tr>\n",
              "      <th>4</th>\n",
              "      <td>female</td>\n",
              "      <td>10.0</td>\n",
              "      <td>Gyeonggi-do</td>\n",
              "      <td>isolated</td>\n",
              "      <td>0</td>\n",
              "      <td>0.0</td>\n",
              "      <td>2.0</td>\n",
              "      <td>(1.0)</td>\n",
              "      <td>(0.0, 0.0, 1.0, 0.0, 0.0, 0.0, 0.0, 0.0, 0.0, ...</td>\n",
              "      <td>(10.0, 1.0, 0.0, 0.0, 1.0, 0.0, 0.0, 0.0, 0.0,...</td>\n",
              "      <td>[2.9575684967998965, 0.042431503200103644]</td>\n",
              "      <td>[0.9858561655999655, 0.014143834400034548]</td>\n",
              "      <td>0.0</td>\n",
              "    </tr>\n",
              "  </tbody>\n",
              "</table>\n",
              "</div>\n",
              "      <button class=\"colab-df-convert\" onclick=\"convertToInteractive('df-10cc8163-c383-4101-b59a-7f324d1de106')\"\n",
              "              title=\"Convert this dataframe to an interactive table.\"\n",
              "              style=\"display:none;\">\n",
              "        \n",
              "  <svg xmlns=\"http://www.w3.org/2000/svg\" height=\"24px\"viewBox=\"0 0 24 24\"\n",
              "       width=\"24px\">\n",
              "    <path d=\"M0 0h24v24H0V0z\" fill=\"none\"/>\n",
              "    <path d=\"M18.56 5.44l.94 2.06.94-2.06 2.06-.94-2.06-.94-.94-2.06-.94 2.06-2.06.94zm-11 1L8.5 8.5l.94-2.06 2.06-.94-2.06-.94L8.5 2.5l-.94 2.06-2.06.94zm10 10l.94 2.06.94-2.06 2.06-.94-2.06-.94-.94-2.06-.94 2.06-2.06.94z\"/><path d=\"M17.41 7.96l-1.37-1.37c-.4-.4-.92-.59-1.43-.59-.52 0-1.04.2-1.43.59L10.3 9.45l-7.72 7.72c-.78.78-.78 2.05 0 2.83L4 21.41c.39.39.9.59 1.41.59.51 0 1.02-.2 1.41-.59l7.78-7.78 2.81-2.81c.8-.78.8-2.07 0-2.86zM5.41 20L4 18.59l7.72-7.72 1.47 1.35L5.41 20z\"/>\n",
              "  </svg>\n",
              "      </button>\n",
              "      \n",
              "  <style>\n",
              "    .colab-df-container {\n",
              "      display:flex;\n",
              "      flex-wrap:wrap;\n",
              "      gap: 12px;\n",
              "    }\n",
              "\n",
              "    .colab-df-convert {\n",
              "      background-color: #E8F0FE;\n",
              "      border: none;\n",
              "      border-radius: 50%;\n",
              "      cursor: pointer;\n",
              "      display: none;\n",
              "      fill: #1967D2;\n",
              "      height: 32px;\n",
              "      padding: 0 0 0 0;\n",
              "      width: 32px;\n",
              "    }\n",
              "\n",
              "    .colab-df-convert:hover {\n",
              "      background-color: #E2EBFA;\n",
              "      box-shadow: 0px 1px 2px rgba(60, 64, 67, 0.3), 0px 1px 3px 1px rgba(60, 64, 67, 0.15);\n",
              "      fill: #174EA6;\n",
              "    }\n",
              "\n",
              "    [theme=dark] .colab-df-convert {\n",
              "      background-color: #3B4455;\n",
              "      fill: #D2E3FC;\n",
              "    }\n",
              "\n",
              "    [theme=dark] .colab-df-convert:hover {\n",
              "      background-color: #434B5C;\n",
              "      box-shadow: 0px 1px 3px 1px rgba(0, 0, 0, 0.15);\n",
              "      filter: drop-shadow(0px 1px 2px rgba(0, 0, 0, 0.3));\n",
              "      fill: #FFFFFF;\n",
              "    }\n",
              "  </style>\n",
              "\n",
              "      <script>\n",
              "        const buttonEl =\n",
              "          document.querySelector('#df-10cc8163-c383-4101-b59a-7f324d1de106 button.colab-df-convert');\n",
              "        buttonEl.style.display =\n",
              "          google.colab.kernel.accessAllowed ? 'block' : 'none';\n",
              "\n",
              "        async function convertToInteractive(key) {\n",
              "          const element = document.querySelector('#df-10cc8163-c383-4101-b59a-7f324d1de106');\n",
              "          const dataTable =\n",
              "            await google.colab.kernel.invokeFunction('convertToInteractive',\n",
              "                                                     [key], {});\n",
              "          if (!dataTable) return;\n",
              "\n",
              "          const docLinkHtml = 'Like what you see? Visit the ' +\n",
              "            '<a target=\"_blank\" href=https://colab.research.google.com/notebooks/data_table.ipynb>data table notebook</a>'\n",
              "            + ' to learn more about interactive tables.';\n",
              "          element.innerHTML = '';\n",
              "          dataTable['output_type'] = 'display_data';\n",
              "          await google.colab.output.renderOutput(dataTable, element);\n",
              "          const docLink = document.createElement('div');\n",
              "          docLink.innerHTML = docLinkHtml;\n",
              "          element.appendChild(docLink);\n",
              "        }\n",
              "      </script>\n",
              "    </div>\n",
              "  </div>\n",
              "  "
            ]
          },
          "metadata": {},
          "execution_count": 52
        }
      ]
    },
    {
      "cell_type": "code",
      "source": [
        "#classification report\n",
        "from sklearn.metrics import classification_report\n",
        "\n",
        "y_true = pandasDF['is_dead']\n",
        "y_pred = pandasDF['prediction']\n",
        "\n",
        "print(classification_report(y_true, y_pred, target_names=['dead', 'survived']))"
      ],
      "metadata": {
        "id": "qT5yHIKw1asI",
        "outputId": "4f1e1089-06b0-4e67-99b1-d4bb4b65cedb",
        "colab": {
          "base_uri": "https://localhost:8080/"
        }
      },
      "execution_count": null,
      "outputs": [
        {
          "output_type": "stream",
          "name": "stdout",
          "text": [
            "              precision    recall  f1-score   support\n",
            "\n",
            "        dead       0.97      1.00      0.99       730\n",
            "    survived       0.00      0.00      0.00        20\n",
            "\n",
            "    accuracy                           0.97       750\n",
            "   macro avg       0.49      0.50      0.49       750\n",
            "weighted avg       0.95      0.97      0.96       750\n",
            "\n"
          ]
        },
        {
          "output_type": "stream",
          "name": "stderr",
          "text": [
            "/usr/local/lib/python3.7/dist-packages/sklearn/metrics/_classification.py:1318: UndefinedMetricWarning: Precision and F-score are ill-defined and being set to 0.0 in labels with no predicted samples. Use `zero_division` parameter to control this behavior.\n",
            "  _warn_prf(average, modifier, msg_start, len(result))\n",
            "/usr/local/lib/python3.7/dist-packages/sklearn/metrics/_classification.py:1318: UndefinedMetricWarning: Precision and F-score are ill-defined and being set to 0.0 in labels with no predicted samples. Use `zero_division` parameter to control this behavior.\n",
            "  _warn_prf(average, modifier, msg_start, len(result))\n",
            "/usr/local/lib/python3.7/dist-packages/sklearn/metrics/_classification.py:1318: UndefinedMetricWarning: Precision and F-score are ill-defined and being set to 0.0 in labels with no predicted samples. Use `zero_division` parameter to control this behavior.\n",
            "  _warn_prf(average, modifier, msg_start, len(result))\n"
          ]
        }
      ]
    },
    {
      "cell_type": "markdown",
      "metadata": {
        "id": "ejDjWj3_0pAO"
      },
      "source": [
        "## Great Job!\n",
        "\n",
        "**If you followed the instructions correctly, you should get a total accuracy of 89%, and F1 scores of 92% and 85%**\n",
        "\n",
        "**Do you think you can improve this accuracy? Let's see what you can do :)**\n",
        "\n",
        "___\n",
        "If you have any questions you can reach out to me:\n",
        "\n",
        "### Omar Hammad\n",
        "#### Software Engineer\n",
        "##### Email: ommar365@gmail.com\n",
        "##### Phone: 01144070145\n",
        "##### Linkedin: https://www.linkedin.com/in/omar-a-hammad"
      ]
    }
  ],
  "metadata": {
    "kernelspec": {
      "display_name": "Python 3.9.10",
      "language": "python",
      "name": "python3"
    },
    "language_info": {
      "codemirror_mode": {
        "name": "ipython",
        "version": 3
      },
      "file_extension": ".py",
      "mimetype": "text/x-python",
      "name": "python",
      "nbconvert_exporter": "python",
      "pygments_lexer": "ipython3",
      "version": "3.9.10"
    },
    "orig_nbformat": 4,
    "vscode": {
      "interpreter": {
        "hash": "dd1a844898bebfcc6c6c504d1dc786ee6fa9d0c6b1f1b5f42f0cc60440be92ab"
      }
    },
    "colab": {
      "name": "Maryam_Mostafa_Practical_Session_2_v2.ipynb",
      "provenance": [],
      "include_colab_link": true
    }
  },
  "nbformat": 4,
  "nbformat_minor": 0
}