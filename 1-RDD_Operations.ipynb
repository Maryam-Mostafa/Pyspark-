{
  "cells": [
    {
      "cell_type": "markdown",
      "metadata": {
        "id": "view-in-github",
        "colab_type": "text"
      },
      "source": [
        "<a href=\"https://colab.research.google.com/github/Maryam-Mostafa/Pyspark-/blob/master/RDD_Operations.ipynb\" target=\"_parent\"><img src=\"https://colab.research.google.com/assets/colab-badge.svg\" alt=\"Open In Colab\"/></a>"
      ]
    },
    {
      "cell_type": "markdown",
      "id": "2568221b",
      "metadata": {
        "id": "2568221b"
      },
      "source": [
        "### Import the required libraries then Create SparkContext"
      ]
    },
    {
      "cell_type": "code",
      "execution_count": null,
      "id": "65e6978c",
      "metadata": {
        "colab": {
          "base_uri": "https://localhost:8080/"
        },
        "id": "65e6978c",
        "outputId": "7bf9f3c8-f45c-41f0-81a3-4883b1e1ef68"
      },
      "outputs": [
        {
          "output_type": "stream",
          "name": "stdout",
          "text": [
            "Looking in indexes: https://pypi.org/simple, https://us-python.pkg.dev/colab-wheels/public/simple/\n",
            "Collecting pyspark\n",
            "  Downloading pyspark-3.2.1.tar.gz (281.4 MB)\n",
            "\u001b[K     |████████████████████████████████| 281.4 MB 33 kB/s \n",
            "\u001b[?25hCollecting py4j==0.10.9.3\n",
            "  Downloading py4j-0.10.9.3-py2.py3-none-any.whl (198 kB)\n",
            "\u001b[K     |████████████████████████████████| 198 kB 58.1 MB/s \n",
            "\u001b[?25hBuilding wheels for collected packages: pyspark\n",
            "  Building wheel for pyspark (setup.py) ... \u001b[?25l\u001b[?25hdone\n",
            "  Created wheel for pyspark: filename=pyspark-3.2.1-py2.py3-none-any.whl size=281853642 sha256=5811bc028dde7bc008030a0c4fdea83f1a579ee33e51e9dacf5540697ca1bc24\n",
            "  Stored in directory: /root/.cache/pip/wheels/9f/f5/07/7cd8017084dce4e93e84e92efd1e1d5334db05f2e83bcef74f\n",
            "Successfully built pyspark\n",
            "Installing collected packages: py4j, pyspark\n",
            "Successfully installed py4j-0.10.9.3 pyspark-3.2.1\n"
          ]
        }
      ],
      "source": [
        "!pip install pyspark"
      ]
    },
    {
      "cell_type": "code",
      "source": [
        "import pyspark \n",
        "from pyspark.sql import SparkSession"
      ],
      "metadata": {
        "id": "4i2fcLCoZKAm"
      },
      "id": "4i2fcLCoZKAm",
      "execution_count": null,
      "outputs": []
    },
    {
      "cell_type": "code",
      "source": [
        "spark = SparkSession.builder.getOrCreate()"
      ],
      "metadata": {
        "id": "TaYbLCsKZf_-"
      },
      "id": "TaYbLCsKZf_-",
      "execution_count": null,
      "outputs": []
    },
    {
      "cell_type": "code",
      "source": [
        "sc = spark.sparkContext"
      ],
      "metadata": {
        "id": "CbcO9wtFZox2"
      },
      "id": "CbcO9wtFZox2",
      "execution_count": null,
      "outputs": []
    },
    {
      "cell_type": "markdown",
      "id": "e9a7d9c6",
      "metadata": {
        "id": "e9a7d9c6"
      },
      "source": [
        "### Create and display an RDD from the following list"
      ]
    },
    {
      "cell_type": "code",
      "execution_count": null,
      "id": "409084ef",
      "metadata": {
        "id": "409084ef"
      },
      "outputs": [],
      "source": [
        "list = [('JK', 22), ('V', 24), ('Jimin',24), ('RM', 25), ('J-Hope', 25), ('Suga', 26), ('Jin', 27)]"
      ]
    },
    {
      "cell_type": "code",
      "source": [
        "rdd1 = sc.parallelize(list) \n",
        "rdd1"
      ],
      "metadata": {
        "colab": {
          "base_uri": "https://localhost:8080/"
        },
        "id": "1PMAZdSZaAaV",
        "outputId": "22878b55-a15f-47a5-c254-3cda9fc8b3fe"
      },
      "id": "1PMAZdSZaAaV",
      "execution_count": null,
      "outputs": [
        {
          "output_type": "execute_result",
          "data": {
            "text/plain": [
              "ParallelCollectionRDD[1] at readRDDFromFile at PythonRDD.scala:274"
            ]
          },
          "metadata": {},
          "execution_count": 11
        }
      ]
    },
    {
      "cell_type": "code",
      "source": [
        "rdd1.collect()"
      ],
      "metadata": {
        "colab": {
          "base_uri": "https://localhost:8080/"
        },
        "id": "c0OyueFqaLzX",
        "outputId": "bbcc4a82-a381-4d91-d6d8-4d167d7681ed"
      },
      "id": "c0OyueFqaLzX",
      "execution_count": null,
      "outputs": [
        {
          "output_type": "execute_result",
          "data": {
            "text/plain": [
              "[('JK', 22),\n",
              " ('V', 24),\n",
              " ('Jimin', 24),\n",
              " ('RM', 25),\n",
              " ('J-Hope', 25),\n",
              " ('Suga', 26),\n",
              " ('Jin', 27)]"
            ]
          },
          "metadata": {},
          "execution_count": 12
        }
      ]
    },
    {
      "cell_type": "markdown",
      "id": "feedfb38",
      "metadata": {
        "id": "feedfb38"
      },
      "source": [
        "### Read sample1.txt file into RDD and displaying the first 4 elements"
      ]
    },
    {
      "cell_type": "code",
      "execution_count": null,
      "id": "14f5c55a",
      "metadata": {
        "id": "14f5c55a"
      },
      "outputs": [],
      "source": [
        "rdd_txt = sc.textFile(\"sample1.txt\")"
      ]
    },
    {
      "cell_type": "code",
      "source": [
        "rdd_txt.take(4)"
      ],
      "metadata": {
        "colab": {
          "base_uri": "https://localhost:8080/"
        },
        "id": "Kd5MnewWwmRW",
        "outputId": "7bbce362-227f-4094-876e-de4401f120d4"
      },
      "id": "Kd5MnewWwmRW",
      "execution_count": null,
      "outputs": [
        {
          "output_type": "execute_result",
          "data": {
            "text/plain": [
              "['Utilitatis causa amicitia est quaesita.',\n",
              " 'Lorem ipsum dolor sit amet, consectetur adipiscing elit. ',\n",
              " 'Collatio igitur ista te nihil iuvat. Honesta oratio, Socratica, Platonis etiam. Primum in nostrane potestate est, quid meminerimus? ',\n",
              " 'Duo Reges: constructio interrete. ']"
            ]
          },
          "metadata": {},
          "execution_count": 14
        }
      ]
    },
    {
      "cell_type": "markdown",
      "id": "e55ae192",
      "metadata": {
        "id": "e55ae192"
      },
      "source": [
        "### Count the total number of rows in RDD"
      ]
    },
    {
      "cell_type": "code",
      "execution_count": null,
      "id": "0b3be34e",
      "metadata": {
        "colab": {
          "base_uri": "https://localhost:8080/"
        },
        "id": "0b3be34e",
        "outputId": "c2934c56-6446-41aa-ae96-ecf5e335b09a"
      },
      "outputs": [
        {
          "output_type": "execute_result",
          "data": {
            "text/plain": [
              "7"
            ]
          },
          "metadata": {},
          "execution_count": 15
        }
      ],
      "source": [
        "rdd_txt.count()"
      ]
    },
    {
      "cell_type": "markdown",
      "id": "35652e93",
      "metadata": {
        "id": "35652e93"
      },
      "source": [
        "### Create a function to convert the data into lower case and splitting it"
      ]
    },
    {
      "cell_type": "code",
      "source": [
        "rdd_txt2 = rdd_txt.map(lambda x: x.lower().split())"
      ],
      "metadata": {
        "id": "YfsCqgMKyIR_"
      },
      "id": "YfsCqgMKyIR_",
      "execution_count": null,
      "outputs": []
    },
    {
      "cell_type": "code",
      "execution_count": null,
      "id": "3e8f7f45",
      "metadata": {
        "scrolled": true,
        "colab": {
          "base_uri": "https://localhost:8080/"
        },
        "id": "3e8f7f45",
        "outputId": "4c5e1c71-60e5-4b3f-cb24-9946cf6bfeaa"
      },
      "outputs": [
        {
          "output_type": "execute_result",
          "data": {
            "text/plain": [
              "[['utilitatis', 'causa', 'amicitia', 'est', 'quaesita.'],\n",
              " ['lorem',\n",
              "  'ipsum',\n",
              "  'dolor',\n",
              "  'sit',\n",
              "  'amet,',\n",
              "  'consectetur',\n",
              "  'adipiscing',\n",
              "  'elit.'],\n",
              " ['collatio',\n",
              "  'igitur',\n",
              "  'ista',\n",
              "  'te',\n",
              "  'nihil',\n",
              "  'iuvat.',\n",
              "  'honesta',\n",
              "  'oratio,',\n",
              "  'socratica,',\n",
              "  'platonis',\n",
              "  'etiam.',\n",
              "  'primum',\n",
              "  'in',\n",
              "  'nostrane',\n",
              "  'potestate',\n",
              "  'est,',\n",
              "  'quid',\n",
              "  'meminerimus?'],\n",
              " ['duo', 'reges:', 'constructio', 'interrete.'],\n",
              " ['quid,',\n",
              "  'si',\n",
              "  'etiam',\n",
              "  'iucunda',\n",
              "  'memoria',\n",
              "  'est',\n",
              "  'praeteritorum',\n",
              "  'malorum?',\n",
              "  'si',\n",
              "  'quidem,',\n",
              "  'inquit,',\n",
              "  'tollerem,',\n",
              "  'sed',\n",
              "  'relinquo.',\n",
              "  'an',\n",
              "  'nisi',\n",
              "  'populari',\n",
              "  'fama?'],\n",
              " [],\n",
              " ['quamquam',\n",
              "  'id',\n",
              "  'quidem',\n",
              "  'licebit',\n",
              "  'iis',\n",
              "  'existimare,',\n",
              "  'qui',\n",
              "  'legerint.',\n",
              "  'summum',\n",
              "  'a',\n",
              "  'vobis',\n",
              "  'bonum',\n",
              "  'voluptas',\n",
              "  'dicitur.',\n",
              "  'at',\n",
              "  'hoc',\n",
              "  'in',\n",
              "  'eo',\n",
              "  'm.',\n",
              "  'refert',\n",
              "  'tamen,',\n",
              "  'quo',\n",
              "  'modo.',\n",
              "  'quid',\n",
              "  'sequatur,',\n",
              "  'quid',\n",
              "  'repugnet,',\n",
              "  'vident.',\n",
              "  'iam',\n",
              "  'id',\n",
              "  'ipsum',\n",
              "  'absurdum,',\n",
              "  'maximum',\n",
              "  'malum',\n",
              "  'neglegi.']]"
            ]
          },
          "metadata": {},
          "execution_count": 17
        }
      ],
      "source": [
        "rdd_txt2.collect()"
      ]
    },
    {
      "cell_type": "markdown",
      "id": "4cfa29af",
      "metadata": {
        "id": "4cfa29af"
      },
      "source": [
        "### Filter the stopwords from the previous text"
      ]
    },
    {
      "cell_type": "code",
      "execution_count": null,
      "id": "97c1e731",
      "metadata": {
        "id": "97c1e731"
      },
      "outputs": [],
      "source": [
        "stopwords = ['a','all','the','as','is','am','an','and',\n",
        "             'be','been','from','had','I','I’d','why','with']\n",
        "# Hint: you may need use flatMap"
      ]
    },
    {
      "cell_type": "code",
      "execution_count": null,
      "id": "65fa1d91",
      "metadata": {
        "colab": {
          "base_uri": "https://localhost:8080/"
        },
        "id": "65fa1d91",
        "outputId": "e3c70ac5-d9e6-4c19-b7e1-f63a0d10cbf9"
      },
      "outputs": [
        {
          "output_type": "execute_result",
          "data": {
            "text/plain": [
              "['utilitatis',\n",
              " 'causa',\n",
              " 'amicitia',\n",
              " 'est',\n",
              " 'quaesita.',\n",
              " 'lorem',\n",
              " 'ipsum',\n",
              " 'dolor',\n",
              " 'sit',\n",
              " 'amet,']"
            ]
          },
          "metadata": {},
          "execution_count": 19
        }
      ],
      "source": [
        "rdd_txt3 = rdd_txt.flatMap(lambda x: x.lower().split()).filter(lambda x: x not in stopwords)\n",
        "rdd_txt3.take(10)"
      ]
    },
    {
      "cell_type": "markdown",
      "id": "eb066a90",
      "metadata": {
        "id": "eb066a90"
      },
      "source": [
        "### Filter the words starting with ‘c’"
      ]
    },
    {
      "cell_type": "code",
      "execution_count": null,
      "id": "7f39a4b8",
      "metadata": {
        "colab": {
          "base_uri": "https://localhost:8080/"
        },
        "id": "7f39a4b8",
        "outputId": "0bf066c7-06ab-46f9-c217-65330c895655"
      },
      "outputs": [
        {
          "output_type": "execute_result",
          "data": {
            "text/plain": [
              "['causa', 'consectetur', 'collatio', 'constructio']"
            ]
          },
          "metadata": {},
          "execution_count": 20
        }
      ],
      "source": [
        "rdd_txt4 = rdd_txt.flatMap(lambda x: x.lower().split()).filter(lambda x: x[0] == 'c' )\n",
        "rdd_txt4.take(10)"
      ]
    },
    {
      "cell_type": "markdown",
      "id": "eba39e2e",
      "metadata": {
        "id": "eba39e2e"
      },
      "source": [
        "### Reduce the data by key and sum it (use the data from the following list)"
      ]
    },
    {
      "cell_type": "code",
      "execution_count": null,
      "id": "f26dea46",
      "metadata": {
        "id": "f26dea46"
      },
      "outputs": [],
      "source": [
        "list = [('JK', 22), ('V', 24), ('Jimin',24), ('RM', 25)\n",
        "        , ('J-Hope', 25), ('Suga', 26), ('Jin', 27)\n",
        "       , ('J-Hope', 12), ('Suga', 25), ('Jin', 34)\n",
        "       , ('JK', 32), ('V', 44), ('Jimin',14), ('RM', 35)]\n",
        "# Hint: use reduceByKey"
      ]
    },
    {
      "cell_type": "code",
      "source": [
        "rdd5 = sc.parallelize(list) "
      ],
      "metadata": {
        "id": "rX9vF_ze1DFN"
      },
      "id": "rX9vF_ze1DFN",
      "execution_count": null,
      "outputs": []
    },
    {
      "cell_type": "code",
      "source": [
        "rdd6 = rdd5.reduceByKey(lambda a,b: a+b)\n",
        "rdd6.collect()"
      ],
      "metadata": {
        "colab": {
          "base_uri": "https://localhost:8080/"
        },
        "id": "Nukch0VJ1IWf",
        "outputId": "851b7381-456b-421e-f663-1fb15becc06c"
      },
      "id": "Nukch0VJ1IWf",
      "execution_count": null,
      "outputs": [
        {
          "output_type": "execute_result",
          "data": {
            "text/plain": [
              "[('Suga', 51),\n",
              " ('Jin', 61),\n",
              " ('JK', 54),\n",
              " ('V', 68),\n",
              " ('Jimin', 38),\n",
              " ('RM', 60),\n",
              " ('J-Hope', 37)]"
            ]
          },
          "metadata": {},
          "execution_count": 25
        }
      ]
    },
    {
      "cell_type": "markdown",
      "id": "a4587230",
      "metadata": {
        "id": "a4587230"
      },
      "source": [
        "### Creat some key value pairs RDDs"
      ]
    },
    {
      "cell_type": "code",
      "execution_count": null,
      "id": "cfb446ee",
      "metadata": {
        "id": "cfb446ee"
      },
      "outputs": [],
      "source": [
        "rdd1 = sc.parallelize([('a',2),('b',3)])\n",
        "rdd2 = sc.parallelize([('a',9),('b',7),('c',10)])"
      ]
    },
    {
      "cell_type": "markdown",
      "id": "98ec3168",
      "metadata": {
        "id": "98ec3168"
      },
      "source": [
        "### Perform Join operation on the RDDs (rdd1,rdd2)"
      ]
    },
    {
      "cell_type": "code",
      "source": [
        "rdd_join = rdd1.join(rdd2)"
      ],
      "metadata": {
        "id": "_e5Mg5IC2czE"
      },
      "id": "_e5Mg5IC2czE",
      "execution_count": null,
      "outputs": []
    },
    {
      "cell_type": "code",
      "source": [
        "rdd_join.collect()"
      ],
      "metadata": {
        "colab": {
          "base_uri": "https://localhost:8080/"
        },
        "id": "kscDIjas2nor",
        "outputId": "80d13327-6bb8-4151-eb14-71ae4679adff"
      },
      "id": "kscDIjas2nor",
      "execution_count": null,
      "outputs": [
        {
          "output_type": "execute_result",
          "data": {
            "text/plain": [
              "[('b', (3, 7)), ('a', (2, 9))]"
            ]
          },
          "metadata": {},
          "execution_count": 30
        }
      ]
    }
  ],
  "metadata": {
    "kernelspec": {
      "display_name": "Python 3",
      "language": "python",
      "name": "python3"
    },
    "language_info": {
      "codemirror_mode": {
        "name": "ipython",
        "version": 3
      },
      "file_extension": ".py",
      "mimetype": "text/x-python",
      "name": "python",
      "nbconvert_exporter": "python",
      "pygments_lexer": "ipython3",
      "version": "3.8.8"
    },
    "colab": {
      "name": "RDD_Operations.ipynb",
      "provenance": [],
      "include_colab_link": true
    }
  },
  "nbformat": 4,
  "nbformat_minor": 5
}
